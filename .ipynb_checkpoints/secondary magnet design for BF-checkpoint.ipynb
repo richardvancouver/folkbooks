{
 "cells": [
  {
   "cell_type": "markdown",
   "metadata": {},
   "source": [
    "Trying to design a second magnet for the small BlueFors fridge."
   ]
  },
  {
   "cell_type": "code",
   "execution_count": 31,
   "metadata": {
    "collapsed": true
   },
   "outputs": [],
   "source": [
    "%matplotlib inline\n",
    "import matplotlib.pyplot as plt\n",
    "import numpy as np"
   ]
  },
  {
   "cell_type": "code",
   "execution_count": 17,
   "metadata": {
    "collapsed": true
   },
   "outputs": [],
   "source": [
    "def area_bisected_circle(R, x):\n",
    "    # angles are in radians\n",
    "    theta = np.arccos(x/R)\n",
    "    return np.pi*(R**2)*(1 - theta/(np.pi)) + x*R*np.sin(theta)"
   ]
  },
  {
   "cell_type": "code",
   "execution_count": 18,
   "metadata": {
    "collapsed": false
   },
   "outputs": [
    {
     "name": "stdout",
     "output_type": "stream",
     "text": [
      "689.1 mm^2\n"
     ]
    }
   ],
   "source": [
    "# the area avalible for the magnet coils\n",
    "print \"{0:.1f} mm^2\".format(area_bisected_circle(28.5, 23.5)-area_bisected_circle(28.5, 8.5))"
   ]
  },
  {
   "cell_type": "markdown",
   "metadata": {},
   "source": [
    "This is an approximately trapezoidal slice out of a circle. The sides have lengths..."
   ]
  },
  {
   "cell_type": "code",
   "execution_count": 14,
   "metadata": {
    "collapsed": false
   },
   "outputs": [
    {
     "name": "stdout",
     "output_type": "stream",
     "text": [
      "short side = 32.2 mm, long side = 54.4 mm, center = 15.0 mm\n"
     ]
    }
   ],
   "source": [
    "print \"short side = {0:.1f} mm, long side = {1:.1f} mm, center = {2} mm\".format(\n",
    "    2*28.5*np.sin(np.arccos(23.5/28.5)), 2*28.5*np.sin(np.arccos(8.5/28.5)), 23.5-8.5)"
   ]
  },
  {
   "cell_type": "markdown",
   "metadata": {},
   "source": [
    "Ok. to take some guess at how many windings will fit I need to guess at the inner diameter of the coil. If a device is about 10mm square, let's say 25mm for the magnet coil."
   ]
  },
  {
   "cell_type": "code",
   "execution_count": 44,
   "metadata": {
    "collapsed": false
   },
   "outputs": [
    {
     "name": "stdout",
     "output_type": "stream",
     "text": [
      "N = 281\n"
     ]
    }
   ],
   "source": [
    "coil_area = (689.1-625.0)/2\n",
    "wire_diameter = 0.33\n",
    "wire_area = np.pi*(0.33/2)**2\n",
    "N = coil_area/wire_area*0.75\n",
    "print \"N = {0:.0f}\".format(N)"
   ]
  },
  {
   "cell_type": "markdown",
   "metadata": {},
   "source": [
    "Let's call it 250, just to be safe. And now we can estimate some fields. First, let's assume the coils have a square cross section with the same area that I have calculated here, so N and L remain constant for the solenoid."
   ]
  },
  {
   "cell_type": "code",
   "execution_count": 28,
   "metadata": {
    "collapsed": false
   },
   "outputs": [
    {
     "name": "stdout",
     "output_type": "stream",
     "text": [
      "approximate width of coils with L=15mm ~ 2.1 mm\n"
     ]
    }
   ],
   "source": [
    "print \"approximate width of coils with L=15mm ~ {0:.1f} mm\".format(coil_area/15.0)"
   ]
  },
  {
   "cell_type": "markdown",
   "metadata": {},
   "source": [
    "Following the math at this link to determin the field along the solenoid axis: http://nbviewer.jupyter.org/github/tiggerntatie/emagnet-py/blob/master/solenoids/solenoid.ipynb \n",
    "\n",
    "The field from the solenoid is:\n",
    "\n",
    "$B = \\frac {\\mu_o i n}{2 (r_2 - r_1)} \\left [  x_2 \\ln \\left ( \\frac {\\sqrt{r_2^2 + x_2^2} + r_2}{\\sqrt{r_1^2 + x_2^2} + r_1} \\right ) - x_1 \\ln \\left ( \\frac {\\sqrt{r_2^2 + x_1^2} + r_2}{\\sqrt{r_1^2 + x_1^2} + r_1} \\right ) \\right ]$"
   ]
  },
  {
   "cell_type": "code",
   "execution_count": 35,
   "metadata": {
    "collapsed": true
   },
   "outputs": [],
   "source": [
    "# SI units for this\n",
    "mu0 = 1.25e-6\n",
    "\n",
    "def b_on_axis_general(x1, x2, I, n, r1, r2):\n",
    "    B0 = mu0*I*n/(2.0*(r2-r1))\n",
    "    B1 = x2*np.log((np.sqrt(r2**2+x2**2)+r2)/(np.sqrt(r1**2+x2**2)+r1))\n",
    "    B2 = x1*np.log((np.sqrt(r2**2+x1**2)+r2)/(np.sqrt(r1**2+x1**2)+r1))\n",
    "    return B0*(B1-B2)\n",
    "\n",
    "def b_on_axis(x, I, L, N, r1, r2):\n",
    "    x2 = x + L/2.0\n",
    "    x1 = x - L/2.0\n",
    "    n = N/L\n",
    "    return b_on_axis_general(x1, x2, I, n, r1, r2)"
   ]
  },
  {
   "cell_type": "code",
   "execution_count": 46,
   "metadata": {
    "collapsed": false
   },
   "outputs": [
    {
     "data": {
      "text/plain": [
       "(0, 1250)"
      ]
     },
     "execution_count": 46,
     "metadata": {},
     "output_type": "execute_result"
    },
    {
     "data": {
      "image/png": "[encoded data removed]",
      "text/plain": [
       "<matplotlib.figure.Figure at 0x109b39050>"
      ]
     },
     "metadata": {},
     "output_type": "display_data"
    }
   ],
   "source": [
    "# sample lives at x=15 in this sketch\n",
    "x = np.linspace(0,30e-3, 200)\n",
    "fig, ax = plt.subplots(1,1)\n",
    "for I in [60, 80, 100, 120]:\n",
    "    ax.plot(x*1000, 1000*b_on_axis(x, I, 15e-3, 250, 12.5e-3, 14.6e-3), label='{0}A'.format(I))\n",
    "ax.plot(np.ones(200)*15, np.linspace(0,1500, 200), 'y', lw=4, alpha=0.5)\n",
    "ax.grid()\n",
    "ax.legend()\n",
    "ax.set_ylabel('B (mT)')\n",
    "ax.set_xlabel(\"distance from magnet center (mm)\")\n",
    "ax.set_title(\"on-axis field\")\n",
    "ax.set_xlim(0, 30)\n",
    "ax.set_ylim(0, 1250)"
   ]
  },
  {
   "cell_type": "markdown",
   "metadata": {},
   "source": [
    "Actually, that's not so bad. With the main magnet at 5T, I could ramp the smaller magnet up to about 300mT.\n",
    "\n",
    "The thing I'm really concerned about is what the field vectors look like across the sample, is it really in the z-direction only?"
   ]
  },
  {
   "cell_type": "code",
   "execution_count": null,
   "metadata": {
    "collapsed": true
   },
   "outputs": [],
   "source": [
    "# this is going to get ugly\n",
    "# need to calculate the axial component and radial component\n",
    "# make color plots of each\n",
    "\n",
    "eps = 1e-7\n",
    "\n",
    "def B_axial(r, x, I, L, N, r1, r2):\n",
    "    B0 = b_on_axis(x, I, L, N, r1, r2)\n",
    "    if r < eps:\n",
    "        return B0\n",
    "    else:\n",
    "        d = sqrt(x**2+r**2)\n",
    "        alpha = r2/r1\n",
    "        beta = L/(2*r1)\n",
    "        \n",
    "        series = 1.0\n",
    "        series += eps2*((d/r1)**2)"
   ]
  }
 ],
 "metadata": {
  "kernelspec": {
   "display_name": "Python 2",
   "language": "python",
   "name": "python2"
  },
  "language_info": {
   "codemirror_mode": {
    "name": "ipython",
    "version": 2
   },
   "file_extension": ".py",
   "mimetype": "text/x-python",
   "name": "python",
   "nbconvert_exporter": "python",
   "pygments_lexer": "ipython2",
   "version": "2.7.11"
  }
 },
 "nbformat": 4,
 "nbformat_minor": 0
}
