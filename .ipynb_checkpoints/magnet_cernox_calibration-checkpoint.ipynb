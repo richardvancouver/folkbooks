{
 "cells": [
  {
   "cell_type": "code",
   "execution_count": 149,
   "metadata": {
    "collapsed": false
   },
   "outputs": [],
   "source": [
    "%matplotlib inline\n",
    "import matplotlib as mpl\n",
    "import matplotlib.pyplot as plt\n",
    "mpl.style.use('/Users/nik/Dropbox/Repos/notebooks/thesisrc.py')\n",
    "mpl.rcParams['figure.figsize'] = (8.0, 6.0)\n",
    "import numpy as np\n",
    "import pandas as pd\n",
    "from igor.binarywave import Waves\n",
    "from scipy.interpolate import interp1d"
   ]
  },
  {
   "cell_type": "code",
   "execution_count": 150,
   "metadata": {
    "collapsed": false
   },
   "outputs": [
    {
     "name": "stdout",
     "output_type": "stream",
     "text": [
      "/Users/nik/Data/magnet_cernox_calibration\n"
     ]
    }
   ],
   "source": [
    "cd '/Users/nik/Data/magnet_cernox_calibration'"
   ]
  },
  {
   "cell_type": "code",
   "execution_count": 151,
   "metadata": {
    "collapsed": false
   },
   "outputs": [],
   "source": [
    "# data set 1\n",
    "diode = Waves('dat0diode.ibw').y\n",
    "fourk = Waves('dat0fourk.ibw').y\n",
    "cernox = Waves('dat0cernox.ibw').y\n",
    "\n",
    "df1 = pd.DataFrame({'Diode':diode, '4K':fourk, 'Cernox':cernox})\n",
    "df1.sort('Cernox', inplace=True)\n",
    "grouped1 = df1.groupby('Cernox', as_index=False).mean()\n",
    "\n",
    "# data set 2\n",
    "diode = Waves('dat2diode.ibw').y\n",
    "fourk = Waves('dat2fourk.ibw').y\n",
    "cernox = Waves('dat2cernox.ibw').y\n",
    "\n",
    "df2 = pd.DataFrame({'Diode':diode, '4K':fourk, 'Cernox':cernox})\n",
    "df2.sort('Cernox', inplace=True)\n",
    "grouped2 = df2.groupby('Cernox', as_index=False).mean()\n",
    "\n",
    "# data set 3\n",
    "diode = Waves('dat3diode.ibw').y\n",
    "fourk = Waves('dat3fourk.ibw').y\n",
    "cernox = Waves('dat3cernox.ibw').y\n",
    "\n",
    "df3 = pd.DataFrame({'Diode':diode, '4K':fourk, 'Cernox':cernox})\n",
    "df3.sort('Cernox', inplace=True)\n",
    "grouped3 = df3.groupby('Cernox', as_index=False).mean()\n",
    "\n",
    "# combine, cutting out some noisy data\n",
    "df = pd.concat([grouped1, grouped2[grouped2['4K']<4.5], grouped3])\n",
    "df.sort('Cernox', inplace=True)\n",
    "grouped = df.groupby('Cernox', as_index=False).mean()"
   ]
  },
  {
   "cell_type": "code",
   "execution_count": 152,
   "metadata": {
    "collapsed": false
   },
   "outputs": [
    {
     "data": {
      "text/html": [
       "<div style=\"max-height:1000px;max-width:1500px;overflow:auto;\">\n",
       "<table border=\"1\" class=\"dataframe\">\n",
       "  <thead>\n",
       "    <tr style=\"text-align: right;\">\n",
       "      <th></th>\n",
       "      <th>Cernox</th>\n",
       "      <th>4K</th>\n",
       "      <th>Diode</th>\n",
       "    </tr>\n",
       "  </thead>\n",
       "  <tbody>\n",
       "    <tr>\n",
       "      <th>0</th>\n",
       "      <td>74.345001</td>\n",
       "      <td>299.306244</td>\n",
       "      <td>0.558900</td>\n",
       "    </tr>\n",
       "    <tr>\n",
       "      <th>1</th>\n",
       "      <td>74.346001</td>\n",
       "      <td>299.240326</td>\n",
       "      <td>0.558908</td>\n",
       "    </tr>\n",
       "    <tr>\n",
       "      <th>2</th>\n",
       "      <td>74.347000</td>\n",
       "      <td>299.135986</td>\n",
       "      <td>0.558918</td>\n",
       "    </tr>\n",
       "    <tr>\n",
       "      <th>3</th>\n",
       "      <td>74.348000</td>\n",
       "      <td>299.302002</td>\n",
       "      <td>0.558898</td>\n",
       "    </tr>\n",
       "    <tr>\n",
       "      <th>4</th>\n",
       "      <td>74.348999</td>\n",
       "      <td>299.291351</td>\n",
       "      <td>0.558904</td>\n",
       "    </tr>\n",
       "  </tbody>\n",
       "</table>\n",
       "</div>"
      ],
      "text/plain": [
       "      Cernox          4K     Diode\n",
       "0  74.345001  299.306244  0.558900\n",
       "1  74.346001  299.240326  0.558908\n",
       "2  74.347000  299.135986  0.558918\n",
       "3  74.348000  299.302002  0.558898\n",
       "4  74.348999  299.291351  0.558904"
      ]
     },
     "execution_count": 152,
     "metadata": {},
     "output_type": "execute_result"
    }
   ],
   "source": [
    "grouped.head()"
   ]
  },
  {
   "cell_type": "code",
   "execution_count": 153,
   "metadata": {
    "collapsed": false
   },
   "outputs": [],
   "source": [
    "# load diode calibration and interpolate down to 1mV steps\n",
    "s900 = np.loadtxt('s900_calibration.txt')[:,1:] # [temp, voltage]\n",
    "step = 0.001\n",
    "volts = np.arange(s900[0,1], s900[-1,1], step)\n",
    "get_temps = interp1d(s900[:,1], s900[:,0], kind='cubic')"
   ]
  },
  {
   "cell_type": "code",
   "execution_count": 154,
   "metadata": {
    "collapsed": true
   },
   "outputs": [],
   "source": [
    "# now I can feed any measured voltage into get_temps\n",
    "grouped['T_Diode'] = get_temps(grouped['Diode'])"
   ]
  },
  {
   "cell_type": "code",
   "execution_count": 168,
   "metadata": {
    "collapsed": false
   },
   "outputs": [
    {
     "data": {
      "text/plain": [
       "(100.0, 10000.0)"
      ]
     },
     "execution_count": 168,
     "metadata": {},
     "output_type": "execute_result"
    },
    {
     "data": {
      "image/png": "[encoded data removed]",
      "text/plain": [
       "<matplotlib.figure.Figure at 0x108ea0150>"
      ]
     },
     "metadata": {},
     "output_type": "display_data"
    }
   ],
   "source": [
    "fig, ax = plt.subplots(1,1)\n",
    "ax.plot(grouped['T_Diode'], grouped['Cernox'])\n",
    "ax.set_xscale('log')\n",
    "ax.set_yscale('log')\n",
    "ax.grid(which='both')\n",
    "ax.set_xlim(3,330)\n",
    "ax.set_ylim(1e2,1e4)"
   ]
  },
  {
   "cell_type": "markdown",
   "metadata": {},
   "source": [
    "Now that I have that, I can take a guess that this is a CX-1070 from Lakeshore. http://www.lakeshore.com/Documents/CX_RSDSsm.pdf"
   ]
  },
  {
   "cell_type": "code",
   "execution_count": 245,
   "metadata": {
    "collapsed": false
   },
   "outputs": [],
   "source": [
    "temps = np.linspace(np.log10(3.92), np.log10(299), 200)\n",
    "temps = 10**temps\n",
    "get_cernox = interp1d(grouped['T_Diode'], grouped['Cernox'], kind='linear')\n",
    "resistances = get_cernox(temps)\n",
    "nums = np.arange(len(temps))\n",
    "cernox_calibration = np.vstack((np.log(resistances[::-1]), temps[::-1])).transpose()"
   ]
  },
  {
   "cell_type": "code",
   "execution_count": 246,
   "metadata": {
    "collapsed": false
   },
   "outputs": [
    {
     "data": {
      "text/plain": [
       "(3, 330)"
      ]
     },
     "execution_count": 246,
     "metadata": {},
     "output_type": "execute_result"
    },
    {
     "data": {
      "image/png": "[encoded data removed]",
      "text/plain": [
       "<matplotlib.figure.Figure at 0x1090f5710>"
      ]
     },
     "metadata": {},
     "output_type": "display_data"
    }
   ],
   "source": [
    "fig, ax = plt.subplots(1,1)\n",
    "ax.plot(grouped['T_Diode'], grouped['Cernox'])\n",
    "ax.plot(temps, resistances, '.')\n",
    "ax.set_xscale('log')\n",
    "# ax.set_yscale('log')\n",
    "ax.grid(which='both')\n",
    "ax.set_xlim(3,330)\n",
    "# ax.set_ylim(1e2,1e4)"
   ]
  },
  {
   "cell_type": "code",
   "execution_count": 247,
   "metadata": {
    "collapsed": true
   },
   "outputs": [],
   "source": [
    "np.savetxt('magnet_cernox_calibration.txt', cernox_calibration, fmt=\"%.3f\", delimiter=',')"
   ]
  }
 ],
 "metadata": {
  "kernelspec": {
   "display_name": "Python 2",
   "language": "python",
   "name": "python2"
  },
  "language_info": {
   "codemirror_mode": {
    "name": "ipython",
    "version": 2
   },
   "file_extension": ".py",
   "mimetype": "text/x-python",
   "name": "python",
   "nbconvert_exporter": "python",
   "pygments_lexer": "ipython2",
   "version": "2.7.11"
  }
 },
 "nbformat": 4,
 "nbformat_minor": 0
}
