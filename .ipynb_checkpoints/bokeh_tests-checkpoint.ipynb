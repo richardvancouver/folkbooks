{
 "cells": [
  {
   "cell_type": "markdown",
   "metadata": {},
   "source": [
    "Working through this http://bokeh.pydata.org/en/latest/docs/user_guide.html"
   ]
  },
  {
   "cell_type": "code",
   "execution_count": null,
   "metadata": {
    "collapsed": true
   },
   "outputs": [],
   "source": [
    "import numpy as np\n",
    "import matplotlib.pyplot as plt\n",
    "import bokeh"
   ]
  },
  {
   "cell_type": "code",
   "execution_count": null,
   "metadata": {
    "collapsed": false
   },
   "outputs": [],
   "source": [
    "from bokeh.plotting import figure, output_file, show\n",
    "output_file(\"test_again.html\") # opens at file:///Users/nik/Dropbox/Repos/folkbooks/test.html\n",
    "p = figure()\n",
    "x = np.linspace(1,5,5)\n",
    "y = np.random.rand(5)\n",
    "p.line(x, y, line_width=2)\n",
    "show(p)"
   ]
  },
  {
   "cell_type": "code",
   "execution_count": null,
   "metadata": {
    "collapsed": false
   },
   "outputs": [],
   "source": [
    "# from bokeh.plotting import figure, output_notebook, show\n",
    "# output_notebook() # opens right in this notebook\n",
    "# p = figure()\n",
    "# p.line([1, 2, 3, 4, 5], [6, 7, 2, 4, 5], line_width=2)\n",
    "# show(p)"
   ]
  },
  {
   "cell_type": "code",
   "execution_count": null,
   "metadata": {
    "collapsed": false
   },
   "outputs": [],
   "source": [
    "from bokeh.plotting import figure, output_file, show\n",
    "\n",
    "# output to static HTML file\n",
    "output_file(\"line.html\")\n",
    "\n",
    "p = figure(plot_width=400, plot_height=400)\n",
    "\n",
    "# add a circle renderer with a size, color, and alpha\n",
    "p.circle([1, 2, 3, 4, 5], [6, 7, 2, 4, 5], size=20, color=\"navy\", alpha=0.5)\n",
    "\n",
    "# show the results\n",
    "show(p)"
   ]
  },
  {
   "cell_type": "code",
   "execution_count": null,
   "metadata": {
    "collapsed": false
   },
   "outputs": [],
   "source": [
    "from bokeh.plotting import figure, output_file, show\n",
    "\n",
    "# output to static HTML file\n",
    "output_file(\"square.html\")\n",
    "\n",
    "p = figure(plot_width=600, plot_height=400)\n",
    "\n",
    "# add a square renderer with a size, color, and alpha\n",
    "p.square([1, 2, 3, 4, 5], [6, 7, 2, 4, 5], size=20, color=\"olive\", alpha=0.5)\n",
    "\n",
    "# show the results\n",
    "show(p)"
   ]
  },
  {
   "cell_type": "markdown",
   "metadata": {},
   "source": [
    "Good basic plotting stuff here: http://bokeh.pydata.org/en/latest/docs/user_guide/plotting.html"
   ]
  },
  {
   "cell_type": "markdown",
   "metadata": {},
   "source": [
    "I'm going to just dive in and try to make a plot that I like."
   ]
  },
  {
   "cell_type": "code",
   "execution_count": null,
   "metadata": {
    "collapsed": false,
    "scrolled": false
   },
   "outputs": [],
   "source": [
    "import os\n",
    "from igor.binarywave import Waves\n",
    "from bokeh.plotting import figure\n",
    "from bokeh.embed import components\n",
    "from bokeh.models import Range1d\n",
    "from bokeh.models.mappers import LinearColorMapper\n",
    "\n",
    "# define a colormap\n",
    "greys = ['#{0:02x}{0:02x}{0:02x}'.format(i) for i in range(0,256)]\n",
    "\n",
    "def get_html_plot(filename):\n",
    "\n",
    "    dat, ext = os.path.splitext(os.path.basename(filename))\n",
    "    plot = figure(plot_width=600, plot_height=400, title=dat, title_text_font_size='10pt')\n",
    "\n",
    "    # import wave data\n",
    "    try:\n",
    "        w = Waves(filename)\n",
    "    except:\n",
    "        plot.text(0.0, 0.0, text=['DATA IMPORT ERROR!'], text_color=\"firebrick\", text_align=\"center\")\n",
    "        script, div = components(plot)\n",
    "        return div + \"\\r\" + script\n",
    "\n",
    "    if w.d == 1:\n",
    "        plot.line(w.x, w.y, line_width=2)\n",
    "    elif w.d == 2: \n",
    "        x = w.extent[0]\n",
    "        y = w.extent[2]\n",
    "        dw = w.extent[1]-w.extent[0]\n",
    "        dh = w.extent[3]-w.extent[2]\n",
    "        plot.image(image=[w.y], x=[x], y=[y], dw=[dw], dh=[dh], color_mapper=LinearColorMapper(greys))\n",
    "        plot.set(x_range=Range1d(w.extent[0], w.extent[1]), y_range=Range1d(w.extent[2], w.extent[3]))\n",
    "    else:\n",
    "        # add text to plot indicating that there was an error\n",
    "        plot.text(0.0, 0.0, text=['TOO MANY DIMENSIONS!'], text_color=\"firebrick\", text_align=\"center\")\n",
    "        \n",
    "    script, div = components(plot)\n",
    "    return div + \"\\r\" + script\n",
    "\n",
    "with open(\"test_data/plot_scripts.html\", \"w\") as text_file:\n",
    "    \n",
    "    filename = 'test_data/dat17g1x.ibw'\n",
    "#     filename = 'test_data/dat33g2d1x.ibw'\n",
    "    # filename = 'test_data/notafile.ibw'\n",
    "    \n",
    "    out_html = get_html_plot(filename)\n",
    "    text_file.write(out_html)"
   ]
  },
  {
   "cell_type": "code",
   "execution_count": null,
   "metadata": {
    "collapsed": false
   },
   "outputs": [],
   "source": [
    "from bokeh.resources import CDN\n",
    "from bokeh.embed import autoload_static\n",
    "\n",
    "filename = 'test_data/dat17g1x.ibw'\n",
    "w = Waves(filename)\n",
    "\n",
    "p = figure(plot_width=600, plot_height=400, title=dat, title_text_font_size='10pt')\n",
    "p.line(w.x, w.y, line_width=2)\n",
    "\n",
    "filename = \"test_data/static_plot.js\"\n",
    "js, tag = autoload_static(p, CDN, filename)\n",
    "\n",
    "with open(\"test_data/static_plot.js\", \"w\") as text_file:\n",
    "    text_file.write(js)\n",
    "with open(\"test_data/static_tag.html\", \"w\") as text_file:\n",
    "    text_file.write(tag)"
   ]
  },
  {
   "cell_type": "code",
   "execution_count": null,
   "metadata": {
    "collapsed": false
   },
   "outputs": [],
   "source": [
    "w.y.shape"
   ]
  },
  {
   "cell_type": "code",
   "execution_count": null,
   "metadata": {
    "collapsed": true
   },
   "outputs": [],
   "source": [
    "import matplotlib.pyplot as plt\n",
    "import numpy as np\n",
    "def rgb_to_hex(rgb):\n",
    "    return '#%02x%02x%02x' % rgb[0:3]\n",
    "def return_bokeh_colormap(name):\n",
    "    cm = plt.cm.get_cmap(name)\n",
    "    colormap = [rgb_to_hex(tuple((np.array(cm(x))*255).astype(np.int))) for x in range(0,cm.N)]\n",
    "    return colormap"
   ]
  },
  {
   "cell_type": "code",
   "execution_count": null,
   "metadata": {
    "collapsed": false
   },
   "outputs": [],
   "source": [
    "viridis = return_bokeh_colormap('viridis')"
   ]
  },
  {
   "cell_type": "code",
   "execution_count": null,
   "metadata": {
    "collapsed": false,
    "scrolled": false
   },
   "outputs": [],
   "source": [
    "import os\n",
    "from igor.binarywave import Waves\n",
    "import numpy as np\n",
    "from cStringIO import StringIO\n",
    "\n",
    "fullpath = 'test_data/dat33g2d1x.ibw'\n",
    "filepath, filename = os.path.split(fullpath)\n",
    "dat, ext = os.path.splitext(os.path.basename(filename))\n",
    "csvpath = os.path.join(filepath, dat+'.csv')\n",
    "\n",
    "w = Waves(fullpath)\n",
    "data = w.as_numpyarray()\n",
    "\n",
    "s = StringIO()\n",
    "np.savetxt(s, data, delimiter=\",\")\n",
    "sdata = s.getvalue()"
   ]
  },
  {
   "cell_type": "code",
   "execution_count": 5,
   "metadata": {
    "collapsed": false
   },
   "outputs": [
    {
     "data": {
      "text/html": [
       "\n",
       "\n",
       "    <script type=\"text/javascript\">\n",
       "      \n",
       "      (function(global) {\n",
       "        function now() {\n",
       "          return new Date();\n",
       "        }\n",
       "      \n",
       "        if (typeof (window._bokeh_onload_callbacks) === \"undefined\") {\n",
       "          window._bokeh_onload_callbacks = [];\n",
       "        }\n",
       "      \n",
       "        function run_callbacks() {\n",
       "          window._bokeh_onload_callbacks.forEach(function(callback) { callback() });\n",
       "          delete window._bokeh_onload_callbacks\n",
       "          console.info(\"Bokeh: all callbacks have finished\");\n",
       "        }\n",
       "      \n",
       "        function load_libs(js_urls, callback) {\n",
       "          window._bokeh_onload_callbacks.push(callback);\n",
       "          if (window._bokeh_is_loading > 0) {\n",
       "            console.log(\"Bokeh: BokehJS is being loaded, scheduling callback at\", now());\n",
       "            return null;\n",
       "          }\n",
       "          if (js_urls == null || js_urls.length === 0) {\n",
       "            run_callbacks();\n",
       "            return null;\n",
       "          }\n",
       "          console.log(\"Bokeh: BokehJS not loaded, scheduling load and callback at\", now());\n",
       "          window._bokeh_is_loading = js_urls.length;\n",
       "          for (var i = 0; i < js_urls.length; i++) {\n",
       "            var url = js_urls[i];\n",
       "            var s = document.createElement('script');\n",
       "            s.src = url;\n",
       "            s.async = false;\n",
       "            s.onreadystatechange = s.onload = function() {\n",
       "              window._bokeh_is_loading--;\n",
       "              if (window._bokeh_is_loading === 0) {\n",
       "                console.log(\"Bokeh: all BokehJS libraries loaded\");\n",
       "                run_callbacks()\n",
       "              }\n",
       "            };\n",
       "            s.onerror = function() {\n",
       "              console.warn(\"failed to load library \" + url);\n",
       "            };\n",
       "            console.log(\"Bokeh: injecting script tag for BokehJS library: \", url);\n",
       "            document.getElementsByTagName(\"head\")[0].appendChild(s);\n",
       "          }\n",
       "        };var js_urls = ['https://cdn.pydata.org/bokeh/release/bokeh-0.11.0.min.js', 'https://cdn.pydata.org/bokeh/release/bokeh-widgets-0.11.0.min.js', 'https://cdn.pydata.org/bokeh/release/bokeh-compiler-0.11.0.min.js'];\n",
       "      \n",
       "        var inline_js = [\n",
       "          function(Bokeh) {\n",
       "            Bokeh.set_log_level(\"info\");\n",
       "          },\n",
       "          function(Bokeh) {\n",
       "            console.log(\"Bokeh: injecting CSS: https://cdn.pydata.org/bokeh/release/bokeh-0.11.0.min.css\");\n",
       "            Bokeh.embed.inject_css(\"https://cdn.pydata.org/bokeh/release/bokeh-0.11.0.min.css\");\n",
       "            console.log(\"Bokeh: injecting CSS: https://cdn.pydata.org/bokeh/release/bokeh-widgets-0.11.0.min.css\");\n",
       "            Bokeh.embed.inject_css(\"https://cdn.pydata.org/bokeh/release/bokeh-widgets-0.11.0.min.css\");\n",
       "          }\n",
       "        ];\n",
       "      \n",
       "        function run_inline_js() {\n",
       "          for (var i = 0; i < inline_js.length; i++) {\n",
       "            inline_js[i](window.Bokeh);\n",
       "          }\n",
       "        }\n",
       "      \n",
       "        if (window._bokeh_is_loading === 0) {\n",
       "          console.log(\"Bokeh: BokehJS loaded, going straight to plotting\");\n",
       "          run_inline_js();\n",
       "        } else {\n",
       "          load_libs(js_urls, function() {\n",
       "            console.log(\"Bokeh: BokehJS plotting callback run at\", now());\n",
       "            run_inline_js();\n",
       "          });\n",
       "        }\n",
       "      }(this));\n",
       "    </script>\n",
       "    <div>\n",
       "        <a href=\"http://bokeh.pydata.org\" target=\"_blank\" class=\"bk-logo bk-logo-small bk-logo-notebook\"></a>\n",
       "        <span>BokehJS successfully loaded.</span>\n",
       "    </div>"
      ]
     },
     "metadata": {},
     "output_type": "display_data"
    },
    {
     "data": {
      "text/html": [
       "\n",
       "\n",
       "    <div class=\"plotdiv\" id=\"7170c828-7c1c-429d-8c37-212a65a9a26a\"></div>\n",
       "<script type=\"text/javascript\">\n",
       "  \n",
       "  (function(global) {\n",
       "    function now() {\n",
       "      return new Date();\n",
       "    }\n",
       "  \n",
       "    if (typeof (window._bokeh_onload_callbacks) === \"undefined\") {\n",
       "      window._bokeh_onload_callbacks = [];\n",
       "    }\n",
       "  \n",
       "    function run_callbacks() {\n",
       "      window._bokeh_onload_callbacks.forEach(function(callback) { callback() });\n",
       "      delete window._bokeh_onload_callbacks\n",
       "      console.info(\"Bokeh: all callbacks have finished\");\n",
       "    }\n",
       "  \n",
       "    function load_libs(js_urls, callback) {\n",
       "      window._bokeh_onload_callbacks.push(callback);\n",
       "      if (window._bokeh_is_loading > 0) {\n",
       "        console.log(\"Bokeh: BokehJS is being loaded, scheduling callback at\", now());\n",
       "        return null;\n",
       "      }\n",
       "      if (js_urls == null || js_urls.length === 0) {\n",
       "        run_callbacks();\n",
       "        return null;\n",
       "      }\n",
       "      console.log(\"Bokeh: BokehJS not loaded, scheduling load and callback at\", now());\n",
       "      window._bokeh_is_loading = js_urls.length;\n",
       "      for (var i = 0; i < js_urls.length; i++) {\n",
       "        var url = js_urls[i];\n",
       "        var s = document.createElement('script');\n",
       "        s.src = url;\n",
       "        s.async = false;\n",
       "        s.onreadystatechange = s.onload = function() {\n",
       "          window._bokeh_is_loading--;\n",
       "          if (window._bokeh_is_loading === 0) {\n",
       "            console.log(\"Bokeh: all BokehJS libraries loaded\");\n",
       "            run_callbacks()\n",
       "          }\n",
       "        };\n",
       "        s.onerror = function() {\n",
       "          console.warn(\"failed to load library \" + url);\n",
       "        };\n",
       "        console.log(\"Bokeh: injecting script tag for BokehJS library: \", url);\n",
       "        document.getElementsByTagName(\"head\")[0].appendChild(s);\n",
       "      }\n",
       "    };var element = document.getElementById(\"7170c828-7c1c-429d-8c37-212a65a9a26a\");\n",
       "    if (element == null) {\n",
       "      console.log(\"Bokeh: ERROR: autoload.js configured with elementid '7170c828-7c1c-429d-8c37-212a65a9a26a' but no matching script tag was found. \")\n",
       "      return false;\n",
       "    }var js_urls = [];\n",
       "  \n",
       "    var inline_js = [\n",
       "      function(Bokeh) {\n",
       "        Bokeh.$(function() {\n",
       "            var docs_json = {\"8939dc45-5f15-4069-b97f-c75addc7c4e1\": {\"version\": \"0.11.0\", \"roots\": {\"root_ids\": [\"9a29319c-2d0b-4377-9590-6696a820232b\", \"057181fd-9296-4cf1-9c83-8d3c66252f49\", \"c702f90f-8cb2-4e6f-b8af-639f597e06b2\", \"358f8f49-b3d4-4edb-8e39-e09e9c41c6e3\", \"f40baaf3-caa9-4fb5-a76b-abbacb9ad80e\"], \"references\": [{\"attributes\": {\"plot\": {\"subtype\": \"Figure\", \"type\": \"Plot\", \"id\": \"057181fd-9296-4cf1-9c83-8d3c66252f49\"}, \"formatter\": {\"type\": \"BasicTickFormatter\", \"id\": \"769f3e9e-b22e-4b31-855f-27a5b6560243\"}, \"ticker\": {\"type\": \"BasicTicker\", \"id\": \"c444f05b-6dcd-4f3f-bd78-1652148a325e\"}}, \"type\": \"LinearAxis\", \"id\": \"4e4b88d4-b120-4aa2-942a-07ae5c8e2594\"}, {\"attributes\": {\"plot\": {\"subtype\": \"Figure\", \"type\": \"Plot\", \"id\": \"358f8f49-b3d4-4edb-8e39-e09e9c41c6e3\"}}, \"type\": \"ResizeTool\", \"id\": \"b5f80e15-604a-47ff-afb3-693b3806c3bc\"}, {\"attributes\": {\"callback\": null, \"column_names\": [\"y\", \"x\"], \"data\": {\"y\": [1.0, 3.0, 5.5], \"x\": [0, 1, 2]}}, \"type\": \"ColumnDataSource\", \"id\": \"740ee5be-9a70-4d8b-a608-71fe778da84e\"}, {\"attributes\": {\"plot\": {\"subtype\": \"Figure\", \"type\": \"Plot\", \"id\": \"f40baaf3-caa9-4fb5-a76b-abbacb9ad80e\"}, \"overlay\": {\"type\": \"BoxAnnotation\", \"id\": \"d835f0cb-666b-409c-b814-62a6be18468c\"}}, \"type\": \"BoxZoomTool\", \"id\": \"a3f8c79d-d118-45df-9213-003e9fce7d66\"}, {\"attributes\": {}, \"type\": \"BasicTicker\", \"id\": \"aeaa8370-efff-47eb-a106-99011d3b77ec\"}, {\"attributes\": {\"plot\": {\"subtype\": \"Figure\", \"type\": \"Plot\", \"id\": \"057181fd-9296-4cf1-9c83-8d3c66252f49\"}}, \"type\": \"ResizeTool\", \"id\": \"7538dfc7-4e73-4d91-ba4d-04ed035f4d99\"}, {\"attributes\": {}, \"type\": \"BasicTickFormatter\", \"id\": \"cd4b24b3-2814-462d-bca1-f6e3437f2200\"}, {\"attributes\": {\"plot\": {\"subtype\": \"Figure\", \"type\": \"Plot\", \"id\": \"358f8f49-b3d4-4edb-8e39-e09e9c41c6e3\"}, \"formatter\": {\"type\": \"BasicTickFormatter\", \"id\": \"c993ce00-51b6-46b1-9cbc-e4e6faaedde7\"}, \"ticker\": {\"type\": \"BasicTicker\", \"id\": \"9947533c-d7b3-477c-8964-be9749ac61c6\"}}, \"type\": \"LinearAxis\", \"id\": \"2870df3d-c101-4801-abc3-500de20b5a11\"}, {\"attributes\": {\"plot\": {\"subtype\": \"Figure\", \"type\": \"Plot\", \"id\": \"c702f90f-8cb2-4e6f-b8af-639f597e06b2\"}, \"ticker\": {\"type\": \"BasicTicker\", \"id\": \"00f06d3b-fe03-4dda-8fae-44f1415165e2\"}}, \"type\": \"Grid\", \"id\": \"cb7c841b-9bb3-4a1b-a7c4-17aeaa82a9d6\"}, {\"attributes\": {\"plot\": {\"subtype\": \"Figure\", \"type\": \"Plot\", \"id\": \"9a29319c-2d0b-4377-9590-6696a820232b\"}}, \"type\": \"ResizeTool\", \"id\": \"3ac197ef-c9fb-4c76-a627-8e53149874ed\"}, {\"attributes\": {\"plot\": {\"subtype\": \"Figure\", \"type\": \"Plot\", \"id\": \"f40baaf3-caa9-4fb5-a76b-abbacb9ad80e\"}}, \"type\": \"WheelZoomTool\", \"id\": \"11cef8f0-bea8-4f17-900a-7a7059389d75\"}, {\"attributes\": {\"line_color\": {\"value\": \"firebrick\"}, \"x\": {\"field\": \"x\"}, \"fill_color\": {\"value\": \"firebrick\"}, \"y\": {\"field\": \"y\"}}, \"type\": \"Square\", \"id\": \"9524e7c4-e939-4ad2-b61a-f1ebfed13754\"}, {\"attributes\": {\"callback\": null}, \"type\": \"DataRange1d\", \"id\": \"e7ccecf6-5b63-46a2-aab9-c951ca498280\"}, {\"attributes\": {}, \"type\": \"BasicTicker\", \"id\": \"13f8e02d-46be-47aa-af26-206465081436\"}, {\"attributes\": {\"plot\": {\"subtype\": \"Figure\", \"type\": \"Plot\", \"id\": \"f40baaf3-caa9-4fb5-a76b-abbacb9ad80e\"}}, \"type\": \"ResetTool\", \"id\": \"62a47059-c3d8-49ef-8d56-9bea261056f0\"}, {\"attributes\": {\"x_range\": {\"type\": \"DataRange1d\", \"id\": \"e7ccecf6-5b63-46a2-aab9-c951ca498280\"}, \"title\": \"None\", \"y_range\": {\"type\": \"DataRange1d\", \"id\": \"65adea0a-e5a4-456b-9a03-3e6b86a3100d\"}, \"renderers\": [{\"type\": \"LinearAxis\", \"id\": \"34ed1f16-9f00-492e-b80c-92415a3b801b\"}, {\"type\": \"Grid\", \"id\": \"9dab4fb7-44a7-40a2-9bdc-14471b68e10c\"}, {\"type\": \"LinearAxis\", \"id\": \"2870df3d-c101-4801-abc3-500de20b5a11\"}, {\"type\": \"Grid\", \"id\": \"288b17a0-0610-4b21-a538-43b9a2d36be0\"}, {\"type\": \"BoxAnnotation\", \"id\": \"196f8d4a-61ce-466a-b058-689cfdb69df5\"}, {\"type\": \"GlyphRenderer\", \"id\": \"b9370a9c-6475-48a3-9696-bd7f6c64c783\"}], \"plot_width\": 90, \"below\": [{\"type\": \"LinearAxis\", \"id\": \"34ed1f16-9f00-492e-b80c-92415a3b801b\"}], \"tool_events\": {\"type\": \"ToolEvents\", \"id\": \"15a00dde-4e56-4243-8942-f287b92a1dee\"}, \"plot_height\": 360, \"tools\": [{\"type\": \"PanTool\", \"id\": \"789e092b-a350-45ca-a5a4-4a69df6d14c2\"}, {\"type\": \"WheelZoomTool\", \"id\": \"1bc06930-35c7-4950-8709-d9a1c4dc1bc4\"}, {\"type\": \"BoxZoomTool\", \"id\": \"b4a7fd77-3a4f-41b4-9825-4ad0e44fdb47\"}, {\"type\": \"PreviewSaveTool\", \"id\": \"7429418a-9004-4f87-947d-a0c9b540083a\"}, {\"type\": \"ResizeTool\", \"id\": \"b5f80e15-604a-47ff-afb3-693b3806c3bc\"}, {\"type\": \"ResetTool\", \"id\": \"1f18e853-043d-400f-a2f7-58ee109ca400\"}, {\"type\": \"HelpTool\", \"id\": \"0b0534a5-0f74-4358-b09b-fdd3c8938ddd\"}], \"left\": [{\"type\": \"LinearAxis\", \"id\": \"2870df3d-c101-4801-abc3-500de20b5a11\"}]}, \"type\": \"Plot\", \"id\": \"358f8f49-b3d4-4edb-8e39-e09e9c41c6e3\", \"subtype\": \"Figure\"}, {\"attributes\": {\"plot\": {\"subtype\": \"Figure\", \"type\": \"Plot\", \"id\": \"c702f90f-8cb2-4e6f-b8af-639f597e06b2\"}}, \"type\": \"PanTool\", \"id\": \"c43d0757-2257-4269-980d-57269626d474\"}, {\"attributes\": {\"callback\": null, \"column_names\": [\"y\", \"x\"], \"data\": {\"y\": [1.0, 3.0, 5.5], \"x\": [0, 1, 2]}}, \"type\": \"ColumnDataSource\", \"id\": \"541eb8a3-a54f-45cb-9efb-06d64847952f\"}, {\"attributes\": {\"line_color\": {\"value\": \"#1f77b4\"}, \"line_alpha\": {\"value\": 0.1}, \"fill_color\": {\"value\": \"#1f77b4\"}, \"fill_alpha\": {\"value\": 0.1}, \"y\": {\"field\": \"y\"}, \"x\": {\"field\": \"x\"}}, \"type\": \"Square\", \"id\": \"86513a4d-0a81-460c-ba17-59bb1791b619\"}, {\"attributes\": {\"plot\": {\"subtype\": \"Figure\", \"type\": \"Plot\", \"id\": \"f40baaf3-caa9-4fb5-a76b-abbacb9ad80e\"}, \"formatter\": {\"type\": \"BasicTickFormatter\", \"id\": \"cd4b24b3-2814-462d-bca1-f6e3437f2200\"}, \"ticker\": {\"type\": \"BasicTicker\", \"id\": \"4fa6d96a-013b-4d50-8724-204325634f67\"}}, \"type\": \"LinearAxis\", \"id\": \"ff0057ac-eb1b-4796-accd-05c467f43a6e\"}, {\"attributes\": {\"plot\": {\"subtype\": \"Figure\", \"type\": \"Plot\", \"id\": \"9a29319c-2d0b-4377-9590-6696a820232b\"}, \"overlay\": {\"type\": \"BoxAnnotation\", \"id\": \"d7a95572-52ce-4253-b7bc-757275bed4bc\"}}, \"type\": \"BoxZoomTool\", \"id\": \"a3e424e2-e82a-4aaa-94a1-53b84e9188a1\"}, {\"attributes\": {}, \"type\": \"ToolEvents\", \"id\": \"e9044821-9cb7-46f9-8b8b-c0429c025786\"}, {\"attributes\": {\"line_color\": {\"value\": \"#1f77b4\"}, \"line_alpha\": {\"value\": 0.1}, \"fill_color\": {\"value\": \"#1f77b4\"}, \"fill_alpha\": {\"value\": 0.1}, \"y\": {\"field\": \"y\"}, \"x\": {\"field\": \"x\"}}, \"type\": \"Square\", \"id\": \"d59f01bc-f971-42fe-afb1-c6a26fcd0475\"}, {\"attributes\": {\"plot\": {\"subtype\": \"Figure\", \"type\": \"Plot\", \"id\": \"c702f90f-8cb2-4e6f-b8af-639f597e06b2\"}, \"overlay\": {\"type\": \"BoxAnnotation\", \"id\": \"1bffba33-3407-4089-b415-65f8460d5ca8\"}}, \"type\": \"BoxZoomTool\", \"id\": \"2ab0f523-f7be-4674-a368-6fe59b94d6bf\"}, {\"attributes\": {\"callback\": null}, \"type\": \"DataRange1d\", \"id\": \"39e41f68-381e-4c71-bfa2-cdfefd3f9198\"}, {\"attributes\": {\"plot\": {\"subtype\": \"Figure\", \"type\": \"Plot\", \"id\": \"9a29319c-2d0b-4377-9590-6696a820232b\"}, \"ticker\": {\"type\": \"BasicTicker\", \"id\": \"13f8e02d-46be-47aa-af26-206465081436\"}}, \"type\": \"Grid\", \"id\": \"0a9c5b93-4524-4726-9fd7-159d7681302e\"}, {\"attributes\": {\"plot\": {\"subtype\": \"Figure\", \"type\": \"Plot\", \"id\": \"9a29319c-2d0b-4377-9590-6696a820232b\"}}, \"type\": \"ResetTool\", \"id\": \"6e21ec59-c860-48d8-af5f-608db0781c9b\"}, {\"attributes\": {\"plot\": {\"subtype\": \"Figure\", \"type\": \"Plot\", \"id\": \"358f8f49-b3d4-4edb-8e39-e09e9c41c6e3\"}, \"formatter\": {\"type\": \"BasicTickFormatter\", \"id\": \"dea7bb44-fd41-4802-a231-c71542d7836e\"}, \"ticker\": {\"type\": \"BasicTicker\", \"id\": \"f059776a-5017-4f68-b520-bfa99118d211\"}}, \"type\": \"LinearAxis\", \"id\": \"34ed1f16-9f00-492e-b80c-92415a3b801b\"}, {\"attributes\": {\"nonselection_glyph\": {\"type\": \"Rect\", \"id\": \"113692dd-a893-4dac-8eec-79825ec1dd49\"}, \"data_source\": {\"type\": \"ColumnDataSource\", \"id\": \"1608bd26-34be-448b-8c8a-6caf7bb77f02\"}, \"selection_glyph\": null, \"hover_glyph\": null, \"glyph\": {\"type\": \"Rect\", \"id\": \"333e20ab-2cb1-4c96-a32b-13d657cec32c\"}}, \"type\": \"GlyphRenderer\", \"id\": \"de805aa2-868b-40f4-aa0e-8ae7b67e02c6\"}, {\"attributes\": {\"plot\": {\"subtype\": \"Figure\", \"type\": \"Plot\", \"id\": \"358f8f49-b3d4-4edb-8e39-e09e9c41c6e3\"}}, \"type\": \"PanTool\", \"id\": \"789e092b-a350-45ca-a5a4-4a69df6d14c2\"}, {\"attributes\": {\"plot\": {\"subtype\": \"Figure\", \"type\": \"Plot\", \"id\": \"057181fd-9296-4cf1-9c83-8d3c66252f49\"}, \"ticker\": {\"type\": \"BasicTicker\", \"id\": \"c444f05b-6dcd-4f3f-bd78-1652148a325e\"}}, \"type\": \"Grid\", \"id\": \"88445052-3d3e-440d-b589-619a72f6e5db\"}, {\"attributes\": {\"plot\": {\"subtype\": \"Figure\", \"type\": \"Plot\", \"id\": \"358f8f49-b3d4-4edb-8e39-e09e9c41c6e3\"}, \"ticker\": {\"type\": \"BasicTicker\", \"id\": \"9947533c-d7b3-477c-8964-be9749ac61c6\"}, \"dimension\": 1}, \"type\": \"Grid\", \"id\": \"288b17a0-0610-4b21-a538-43b9a2d36be0\"}, {\"attributes\": {}, \"type\": \"BasicTicker\", \"id\": \"4fa6d96a-013b-4d50-8724-204325634f67\"}, {\"attributes\": {}, \"type\": \"BasicTickFormatter\", \"id\": \"50b58be1-19f6-4fcf-8772-378f7102bd93\"}, {\"attributes\": {\"plot\": {\"subtype\": \"Figure\", \"type\": \"Plot\", \"id\": \"f40baaf3-caa9-4fb5-a76b-abbacb9ad80e\"}}, \"type\": \"PreviewSaveTool\", \"id\": \"002eb543-a455-4f7b-a808-8ac4b9b54fc7\"}, {\"attributes\": {\"x_range\": {\"type\": \"DataRange1d\", \"id\": \"91ba3f76-f7fd-4ca2-be50-479a9abda550\"}, \"title\": \"None\", \"y_range\": {\"type\": \"DataRange1d\", \"id\": \"39e41f68-381e-4c71-bfa2-cdfefd3f9198\"}, \"renderers\": [{\"type\": \"LinearAxis\", \"id\": \"ff0057ac-eb1b-4796-accd-05c467f43a6e\"}, {\"type\": \"Grid\", \"id\": \"e8fd8ddd-ef6d-4a0f-9b48-a0395073d96a\"}, {\"type\": \"LinearAxis\", \"id\": \"2c44db96-0331-43b7-88e4-989872ed6b18\"}, {\"type\": \"Grid\", \"id\": \"9f10dba0-46a8-47ea-b7da-55faa25d0904\"}, {\"type\": \"BoxAnnotation\", \"id\": \"d835f0cb-666b-409c-b814-62a6be18468c\"}, {\"type\": \"GlyphRenderer\", \"id\": \"671f54a9-1c48-4072-811a-9983f2440234\"}], \"plot_width\": 90, \"below\": [{\"type\": \"LinearAxis\", \"id\": \"ff0057ac-eb1b-4796-accd-05c467f43a6e\"}], \"tool_events\": {\"type\": \"ToolEvents\", \"id\": \"54a08203-1536-4bd9-bb61-c7883dd46710\"}, \"plot_height\": 360, \"tools\": [{\"type\": \"PanTool\", \"id\": \"c28f516a-f20b-4f44-9fff-f17d30863e42\"}, {\"type\": \"WheelZoomTool\", \"id\": \"11cef8f0-bea8-4f17-900a-7a7059389d75\"}, {\"type\": \"BoxZoomTool\", \"id\": \"a3f8c79d-d118-45df-9213-003e9fce7d66\"}, {\"type\": \"PreviewSaveTool\", \"id\": \"002eb543-a455-4f7b-a808-8ac4b9b54fc7\"}, {\"type\": \"ResizeTool\", \"id\": \"861f591c-1455-4023-93ea-a7084d52f32c\"}, {\"type\": \"ResetTool\", \"id\": \"62a47059-c3d8-49ef-8d56-9bea261056f0\"}, {\"type\": \"HelpTool\", \"id\": \"343e7bcd-b631-43fb-8a36-f7ad94a9edf9\"}], \"left\": [{\"type\": \"LinearAxis\", \"id\": \"2c44db96-0331-43b7-88e4-989872ed6b18\"}]}, \"type\": \"Plot\", \"id\": \"f40baaf3-caa9-4fb5-a76b-abbacb9ad80e\", \"subtype\": \"Figure\"}, {\"attributes\": {}, \"type\": \"BasicTicker\", \"id\": \"00f06d3b-fe03-4dda-8fae-44f1415165e2\"}, {\"attributes\": {\"plot\": {\"subtype\": \"Figure\", \"type\": \"Plot\", \"id\": \"c702f90f-8cb2-4e6f-b8af-639f597e06b2\"}, \"formatter\": {\"type\": \"BasicTickFormatter\", \"id\": \"c6b764ad-5d54-4c3e-9170-c7c234fa8bb2\"}, \"ticker\": {\"type\": \"BasicTicker\", \"id\": \"00f06d3b-fe03-4dda-8fae-44f1415165e2\"}}, \"type\": \"LinearAxis\", \"id\": \"6909cb13-344e-4979-bf7b-14d672c59899\"}, {\"attributes\": {\"line_color\": {\"value\": \"firebrick\"}, \"x\": {\"field\": \"x\"}, \"fill_color\": {\"value\": \"firebrick\"}, \"y\": {\"field\": \"y\"}}, \"type\": \"Rect\", \"id\": \"3185f963-d08e-41a9-8b4c-8b9ef830087c\"}, {\"attributes\": {\"plot\": {\"subtype\": \"Figure\", \"type\": \"Plot\", \"id\": \"9a29319c-2d0b-4377-9590-6696a820232b\"}}, \"type\": \"PanTool\", \"id\": \"d5a00150-e9e0-499f-85d8-303b6514c89e\"}, {\"attributes\": {\"x_range\": {\"type\": \"DataRange1d\", \"id\": \"ff627ba6-92d4-4b38-8ff0-dd93280d9832\"}, \"title\": \"None\", \"y_range\": {\"type\": \"DataRange1d\", \"id\": \"44b45f3f-3c8c-4a9b-a9cf-d7581d873bb7\"}, \"renderers\": [{\"type\": \"LinearAxis\", \"id\": \"6909cb13-344e-4979-bf7b-14d672c59899\"}, {\"type\": \"Grid\", \"id\": \"cb7c841b-9bb3-4a1b-a7c4-17aeaa82a9d6\"}, {\"type\": \"LinearAxis\", \"id\": \"475916ae-8569-44a5-af78-c183bfc44ba2\"}, {\"type\": \"Grid\", \"id\": \"158f2143-2b30-4b24-b2dd-45deb7dee509\"}, {\"type\": \"BoxAnnotation\", \"id\": \"1bffba33-3407-4089-b415-65f8460d5ca8\"}, {\"type\": \"GlyphRenderer\", \"id\": \"d3eedcdb-8567-456b-a1aa-a73fef129668\"}], \"plot_width\": 90, \"below\": [{\"type\": \"LinearAxis\", \"id\": \"6909cb13-344e-4979-bf7b-14d672c59899\"}], \"tool_events\": {\"type\": \"ToolEvents\", \"id\": \"76547e8b-59f0-4127-a26d-3f97e357b2e5\"}, \"plot_height\": 360, \"tools\": [{\"type\": \"PanTool\", \"id\": \"c43d0757-2257-4269-980d-57269626d474\"}, {\"type\": \"WheelZoomTool\", \"id\": \"b1835539-2018-43eb-b721-41c7629ca3a3\"}, {\"type\": \"BoxZoomTool\", \"id\": \"2ab0f523-f7be-4674-a368-6fe59b94d6bf\"}, {\"type\": \"PreviewSaveTool\", \"id\": \"a2156a89-a3a5-44db-b802-b6b00d8496fa\"}, {\"type\": \"ResizeTool\", \"id\": \"b52b3ff3-cb30-44a4-b0b1-7e6eec688db6\"}, {\"type\": \"ResetTool\", \"id\": \"3bf01ed3-f108-4f37-a623-e6ad831cc70f\"}, {\"type\": \"HelpTool\", \"id\": \"d10ab5b2-0edd-4ba0-9667-8277dc58c82d\"}], \"left\": [{\"type\": \"LinearAxis\", \"id\": \"475916ae-8569-44a5-af78-c183bfc44ba2\"}]}, \"type\": \"Plot\", \"id\": \"c702f90f-8cb2-4e6f-b8af-639f597e06b2\", \"subtype\": \"Figure\"}, {\"attributes\": {\"plot\": {\"subtype\": \"Figure\", \"type\": \"Plot\", \"id\": \"f40baaf3-caa9-4fb5-a76b-abbacb9ad80e\"}, \"ticker\": {\"type\": \"BasicTicker\", \"id\": \"4fa6d96a-013b-4d50-8724-204325634f67\"}}, \"type\": \"Grid\", \"id\": \"e8fd8ddd-ef6d-4a0f-9b48-a0395073d96a\"}, {\"attributes\": {}, \"type\": \"BasicTickFormatter\", \"id\": \"13da54d9-f989-42cd-bbf0-20b73d32fc5b\"}, {\"attributes\": {\"plot\": {\"subtype\": \"Figure\", \"type\": \"Plot\", \"id\": \"358f8f49-b3d4-4edb-8e39-e09e9c41c6e3\"}}, \"type\": \"WheelZoomTool\", \"id\": \"1bc06930-35c7-4950-8709-d9a1c4dc1bc4\"}, {\"attributes\": {\"plot\": {\"subtype\": \"Figure\", \"type\": \"Plot\", \"id\": \"358f8f49-b3d4-4edb-8e39-e09e9c41c6e3\"}}, \"type\": \"HelpTool\", \"id\": \"0b0534a5-0f74-4358-b09b-fdd3c8938ddd\"}, {\"attributes\": {\"plot\": {\"subtype\": \"Figure\", \"type\": \"Plot\", \"id\": \"057181fd-9296-4cf1-9c83-8d3c66252f49\"}, \"ticker\": {\"type\": \"BasicTicker\", \"id\": \"0b92634a-0046-4e77-be41-5c575a9f2f1d\"}, \"dimension\": 1}, \"type\": \"Grid\", \"id\": \"31c0e23c-d5af-465a-988c-b374b66788d9\"}, {\"attributes\": {\"callback\": null}, \"type\": \"DataRange1d\", \"id\": \"65adea0a-e5a4-456b-9a03-3e6b86a3100d\"}, {\"attributes\": {\"nonselection_glyph\": {\"type\": \"Rect\", \"id\": \"cd9b7584-0db3-4fac-8738-c5cd241358ef\"}, \"data_source\": {\"type\": \"ColumnDataSource\", \"id\": \"740ee5be-9a70-4d8b-a608-71fe778da84e\"}, \"selection_glyph\": null, \"hover_glyph\": null, \"glyph\": {\"type\": \"Rect\", \"id\": \"3185f963-d08e-41a9-8b4c-8b9ef830087c\"}}, \"type\": \"GlyphRenderer\", \"id\": \"671f54a9-1c48-4072-811a-9983f2440234\"}, {\"attributes\": {\"plot\": {\"subtype\": \"Figure\", \"type\": \"Plot\", \"id\": \"9a29319c-2d0b-4377-9590-6696a820232b\"}}, \"type\": \"PreviewSaveTool\", \"id\": \"902b3733-bf10-4103-8ff2-74715988cb53\"}, {\"attributes\": {}, \"type\": \"BasicTickFormatter\", \"id\": \"769f3e9e-b22e-4b31-855f-27a5b6560243\"}, {\"attributes\": {\"plot\": {\"subtype\": \"Figure\", \"type\": \"Plot\", \"id\": \"9a29319c-2d0b-4377-9590-6696a820232b\"}, \"formatter\": {\"type\": \"BasicTickFormatter\", \"id\": \"68c87645-df8b-4783-aa38-5893bccd0b05\"}, \"ticker\": {\"type\": \"BasicTicker\", \"id\": \"13f8e02d-46be-47aa-af26-206465081436\"}}, \"type\": \"LinearAxis\", \"id\": \"1df81910-8651-445a-89bd-dbb661f35665\"}, {\"attributes\": {\"nonselection_glyph\": {\"type\": \"Rect\", \"id\": \"fe99dca9-2637-45e4-9f86-8e42614d6c1f\"}, \"data_source\": {\"type\": \"ColumnDataSource\", \"id\": \"116afa30-d5f4-4c2c-b72e-810cdcef54f4\"}, \"selection_glyph\": null, \"hover_glyph\": null, \"glyph\": {\"type\": \"Rect\", \"id\": \"d59379cd-b7f8-4798-8b3f-ad3f335066fe\"}}, \"type\": \"GlyphRenderer\", \"id\": \"b9370a9c-6475-48a3-9696-bd7f6c64c783\"}, {\"attributes\": {\"plot\": {\"subtype\": \"Figure\", \"type\": \"Plot\", \"id\": \"f40baaf3-caa9-4fb5-a76b-abbacb9ad80e\"}, \"formatter\": {\"type\": \"BasicTickFormatter\", \"id\": \"13da54d9-f989-42cd-bbf0-20b73d32fc5b\"}, \"ticker\": {\"type\": \"BasicTicker\", \"id\": \"aeaa8370-efff-47eb-a106-99011d3b77ec\"}}, \"type\": \"LinearAxis\", \"id\": \"2c44db96-0331-43b7-88e4-989872ed6b18\"}, {\"attributes\": {\"line_color\": {\"value\": \"black\"}, \"line_alpha\": {\"value\": 1.0}, \"render_mode\": \"css\", \"bottom_units\": \"screen\", \"level\": \"overlay\", \"top_units\": \"screen\", \"fill_alpha\": {\"value\": 0.5}, \"plot\": null, \"left_units\": \"screen\", \"line_dash\": [4, 4], \"line_width\": {\"value\": 2}, \"right_units\": \"screen\", \"fill_color\": {\"value\": \"lightgrey\"}}, \"type\": \"BoxAnnotation\", \"id\": \"d7a95572-52ce-4253-b7bc-757275bed4bc\"}, {\"attributes\": {}, \"type\": \"BasicTicker\", \"id\": \"c7970296-fcaa-4b9e-9973-4412655a935f\"}, {\"attributes\": {\"plot\": {\"subtype\": \"Figure\", \"type\": \"Plot\", \"id\": \"057181fd-9296-4cf1-9c83-8d3c66252f49\"}}, \"type\": \"HelpTool\", \"id\": \"b07ee88d-0acb-43b3-8741-6e5035555527\"}, {\"attributes\": {\"plot\": {\"subtype\": \"Figure\", \"type\": \"Plot\", \"id\": \"057181fd-9296-4cf1-9c83-8d3c66252f49\"}, \"formatter\": {\"type\": \"BasicTickFormatter\", \"id\": \"d7794d8b-25dd-4c2c-8ff2-eb6f6a8f86c2\"}, \"ticker\": {\"type\": \"BasicTicker\", \"id\": \"0b92634a-0046-4e77-be41-5c575a9f2f1d\"}}, \"type\": \"LinearAxis\", \"id\": \"b7100751-1c65-41d3-aff5-881ce9919961\"}, {\"attributes\": {\"plot\": {\"subtype\": \"Figure\", \"type\": \"Plot\", \"id\": \"9a29319c-2d0b-4377-9590-6696a820232b\"}}, \"type\": \"WheelZoomTool\", \"id\": \"5612aadb-5f14-4d08-9a2e-b2d4e85180e9\"}, {\"attributes\": {}, \"type\": \"BasicTickFormatter\", \"id\": \"d7794d8b-25dd-4c2c-8ff2-eb6f6a8f86c2\"}, {\"attributes\": {\"callback\": null, \"column_names\": [\"y\", \"x\"], \"data\": {\"y\": [1.0, 3.0, 5.5], \"x\": [0, 1, 2]}}, \"type\": \"ColumnDataSource\", \"id\": \"f6569cb5-f154-45e6-a6c8-df8885a232ea\"}, {\"attributes\": {}, \"type\": \"BasicTicker\", \"id\": \"32c1b3ac-3fe8-4de6-9177-2d04be9d5767\"}, {\"attributes\": {}, \"type\": \"BasicTickFormatter\", \"id\": \"2b3dc141-3ced-40e0-ae01-79d2f845ca4a\"}, {\"attributes\": {}, \"type\": \"ToolEvents\", \"id\": \"15a00dde-4e56-4243-8942-f287b92a1dee\"}, {\"attributes\": {\"plot\": {\"subtype\": \"Figure\", \"type\": \"Plot\", \"id\": \"358f8f49-b3d4-4edb-8e39-e09e9c41c6e3\"}}, \"type\": \"ResetTool\", \"id\": \"1f18e853-043d-400f-a2f7-58ee109ca400\"}, {\"attributes\": {\"plot\": {\"subtype\": \"Figure\", \"type\": \"Plot\", \"id\": \"9a29319c-2d0b-4377-9590-6696a820232b\"}, \"ticker\": {\"type\": \"BasicTicker\", \"id\": \"c7970296-fcaa-4b9e-9973-4412655a935f\"}, \"dimension\": 1}, \"type\": \"Grid\", \"id\": \"a6304b7c-cc80-449c-bb39-b59da4ebb98c\"}, {\"attributes\": {\"nonselection_glyph\": {\"type\": \"Square\", \"id\": \"d59f01bc-f971-42fe-afb1-c6a26fcd0475\"}, \"data_source\": {\"type\": \"ColumnDataSource\", \"id\": \"541eb8a3-a54f-45cb-9efb-06d64847952f\"}, \"selection_glyph\": null, \"hover_glyph\": null, \"glyph\": {\"type\": \"Square\", \"id\": \"9524e7c4-e939-4ad2-b61a-f1ebfed13754\"}}, \"type\": \"GlyphRenderer\", \"id\": \"4cf9067b-80ef-4006-bf98-4e0aa6a1b100\"}, {\"attributes\": {\"callback\": null}, \"type\": \"DataRange1d\", \"id\": \"6706dab5-a952-4ca8-b05b-6a4359f28fcc\"}, {\"attributes\": {\"plot\": {\"subtype\": \"Figure\", \"type\": \"Plot\", \"id\": \"358f8f49-b3d4-4edb-8e39-e09e9c41c6e3\"}, \"ticker\": {\"type\": \"BasicTicker\", \"id\": \"f059776a-5017-4f68-b520-bfa99118d211\"}}, \"type\": \"Grid\", \"id\": \"9dab4fb7-44a7-40a2-9bdc-14471b68e10c\"}, {\"attributes\": {\"callback\": null, \"column_names\": [\"y\", \"x\"], \"data\": {\"y\": [1.0, 3.0, 5.5], \"x\": [0, 1, 2]}}, \"type\": \"ColumnDataSource\", \"id\": \"116afa30-d5f4-4c2c-b72e-810cdcef54f4\"}, {\"attributes\": {\"line_color\": {\"value\": \"firebrick\"}, \"x\": {\"field\": \"x\"}, \"fill_color\": {\"value\": \"firebrick\"}, \"y\": {\"field\": \"y\"}}, \"type\": \"Square\", \"id\": \"75ae8f1a-6e94-4542-bbcf-8d8deeb7583a\"}, {\"attributes\": {\"plot\": {\"subtype\": \"Figure\", \"type\": \"Plot\", \"id\": \"c702f90f-8cb2-4e6f-b8af-639f597e06b2\"}, \"ticker\": {\"type\": \"BasicTicker\", \"id\": \"32c1b3ac-3fe8-4de6-9177-2d04be9d5767\"}, \"dimension\": 1}, \"type\": \"Grid\", \"id\": \"158f2143-2b30-4b24-b2dd-45deb7dee509\"}, {\"attributes\": {\"plot\": {\"subtype\": \"Figure\", \"type\": \"Plot\", \"id\": \"057181fd-9296-4cf1-9c83-8d3c66252f49\"}}, \"type\": \"PreviewSaveTool\", \"id\": \"7974e636-92a0-4b34-a842-064606b48011\"}, {\"attributes\": {\"callback\": null}, \"type\": \"DataRange1d\", \"id\": \"9519731f-ab9e-4425-8414-451bb5bf044d\"}, {\"attributes\": {\"plot\": {\"subtype\": \"Figure\", \"type\": \"Plot\", \"id\": \"057181fd-9296-4cf1-9c83-8d3c66252f49\"}}, \"type\": \"PanTool\", \"id\": \"03cc1480-fc35-476a-b117-23462c58911b\"}, {\"attributes\": {\"callback\": null}, \"type\": \"DataRange1d\", \"id\": \"b7301f47-3b84-46db-b1de-72b493c9b1e7\"}, {\"attributes\": {\"x_range\": {\"type\": \"DataRange1d\", \"id\": \"8aa60c1a-bfe9-482b-a8d4-86f5232822d3\"}, \"title\": \"None\", \"y_range\": {\"type\": \"DataRange1d\", \"id\": \"9519731f-ab9e-4425-8414-451bb5bf044d\"}, \"renderers\": [{\"type\": \"LinearAxis\", \"id\": \"1df81910-8651-445a-89bd-dbb661f35665\"}, {\"type\": \"Grid\", \"id\": \"0a9c5b93-4524-4726-9fd7-159d7681302e\"}, {\"type\": \"LinearAxis\", \"id\": \"ce284349-306c-4fce-8ab6-5b8626a6c7bc\"}, {\"type\": \"Grid\", \"id\": \"a6304b7c-cc80-449c-bb39-b59da4ebb98c\"}, {\"type\": \"BoxAnnotation\", \"id\": \"d7a95572-52ce-4253-b7bc-757275bed4bc\"}, {\"type\": \"GlyphRenderer\", \"id\": \"de805aa2-868b-40f4-aa0e-8ae7b67e02c6\"}], \"plot_width\": 90, \"below\": [{\"type\": \"LinearAxis\", \"id\": \"1df81910-8651-445a-89bd-dbb661f35665\"}], \"tool_events\": {\"type\": \"ToolEvents\", \"id\": \"09d0b526-c653-4c4a-bb28-4ea67c2742b7\"}, \"plot_height\": 360, \"tools\": [{\"type\": \"PanTool\", \"id\": \"d5a00150-e9e0-499f-85d8-303b6514c89e\"}, {\"type\": \"WheelZoomTool\", \"id\": \"5612aadb-5f14-4d08-9a2e-b2d4e85180e9\"}, {\"type\": \"BoxZoomTool\", \"id\": \"a3e424e2-e82a-4aaa-94a1-53b84e9188a1\"}, {\"type\": \"PreviewSaveTool\", \"id\": \"902b3733-bf10-4103-8ff2-74715988cb53\"}, {\"type\": \"ResizeTool\", \"id\": \"3ac197ef-c9fb-4c76-a627-8e53149874ed\"}, {\"type\": \"ResetTool\", \"id\": \"6e21ec59-c860-48d8-af5f-608db0781c9b\"}, {\"type\": \"HelpTool\", \"id\": \"833ee927-6a90-4795-961f-9590feff6e37\"}], \"left\": [{\"type\": \"LinearAxis\", \"id\": \"ce284349-306c-4fce-8ab6-5b8626a6c7bc\"}]}, \"type\": \"Plot\", \"id\": \"9a29319c-2d0b-4377-9590-6696a820232b\", \"subtype\": \"Figure\"}, {\"attributes\": {\"x_range\": {\"type\": \"DataRange1d\", \"id\": \"b7301f47-3b84-46db-b1de-72b493c9b1e7\"}, \"title\": \"None\", \"y_range\": {\"type\": \"DataRange1d\", \"id\": \"6706dab5-a952-4ca8-b05b-6a4359f28fcc\"}, \"renderers\": [{\"type\": \"LinearAxis\", \"id\": \"4e4b88d4-b120-4aa2-942a-07ae5c8e2594\"}, {\"type\": \"Grid\", \"id\": \"88445052-3d3e-440d-b589-619a72f6e5db\"}, {\"type\": \"LinearAxis\", \"id\": \"b7100751-1c65-41d3-aff5-881ce9919961\"}, {\"type\": \"Grid\", \"id\": \"31c0e23c-d5af-465a-988c-b374b66788d9\"}, {\"type\": \"BoxAnnotation\", \"id\": \"99d04576-67f7-4ab0-9a67-d27de15015a3\"}, {\"type\": \"GlyphRenderer\", \"id\": \"4cf9067b-80ef-4006-bf98-4e0aa6a1b100\"}], \"plot_width\": 90, \"below\": [{\"type\": \"LinearAxis\", \"id\": \"4e4b88d4-b120-4aa2-942a-07ae5c8e2594\"}], \"tool_events\": {\"type\": \"ToolEvents\", \"id\": \"e9044821-9cb7-46f9-8b8b-c0429c025786\"}, \"plot_height\": 360, \"tools\": [{\"type\": \"PanTool\", \"id\": \"03cc1480-fc35-476a-b117-23462c58911b\"}, {\"type\": \"WheelZoomTool\", \"id\": \"9144d6df-076e-4070-8386-062a7a2151d3\"}, {\"type\": \"BoxZoomTool\", \"id\": \"fd6fbb64-c878-479b-a480-38c1d00db2d7\"}, {\"type\": \"PreviewSaveTool\", \"id\": \"7974e636-92a0-4b34-a842-064606b48011\"}, {\"type\": \"ResizeTool\", \"id\": \"7538dfc7-4e73-4d91-ba4d-04ed035f4d99\"}, {\"type\": \"ResetTool\", \"id\": \"11a580fc-c581-4f19-9f2f-f9e21cd059b0\"}, {\"type\": \"HelpTool\", \"id\": \"b07ee88d-0acb-43b3-8741-6e5035555527\"}], \"left\": [{\"type\": \"LinearAxis\", \"id\": \"b7100751-1c65-41d3-aff5-881ce9919961\"}]}, \"type\": \"Plot\", \"id\": \"057181fd-9296-4cf1-9c83-8d3c66252f49\", \"subtype\": \"Figure\"}, {\"attributes\": {\"plot\": {\"subtype\": \"Figure\", \"type\": \"Plot\", \"id\": \"c702f90f-8cb2-4e6f-b8af-639f597e06b2\"}}, \"type\": \"PreviewSaveTool\", \"id\": \"a2156a89-a3a5-44db-b802-b6b00d8496fa\"}, {\"attributes\": {\"plot\": {\"subtype\": \"Figure\", \"type\": \"Plot\", \"id\": \"c702f90f-8cb2-4e6f-b8af-639f597e06b2\"}, \"formatter\": {\"type\": \"BasicTickFormatter\", \"id\": \"50b58be1-19f6-4fcf-8772-378f7102bd93\"}, \"ticker\": {\"type\": \"BasicTicker\", \"id\": \"32c1b3ac-3fe8-4de6-9177-2d04be9d5767\"}}, \"type\": \"LinearAxis\", \"id\": \"475916ae-8569-44a5-af78-c183bfc44ba2\"}, {\"attributes\": {\"line_color\": {\"value\": \"#1f77b4\"}, \"line_alpha\": {\"value\": 0.1}, \"fill_color\": {\"value\": \"#1f77b4\"}, \"fill_alpha\": {\"value\": 0.1}, \"y\": {\"field\": \"y\"}, \"x\": {\"field\": \"x\"}}, \"type\": \"Rect\", \"id\": \"cd9b7584-0db3-4fac-8738-c5cd241358ef\"}, {\"attributes\": {}, \"type\": \"BasicTicker\", \"id\": \"9947533c-d7b3-477c-8964-be9749ac61c6\"}, {\"attributes\": {\"line_color\": {\"value\": \"#1f77b4\"}, \"line_alpha\": {\"value\": 0.1}, \"fill_color\": {\"value\": \"#1f77b4\"}, \"fill_alpha\": {\"value\": 0.1}, \"y\": {\"field\": \"y\"}, \"x\": {\"field\": \"x\"}}, \"type\": \"Rect\", \"id\": \"113692dd-a893-4dac-8eec-79825ec1dd49\"}, {\"attributes\": {\"callback\": null, \"column_names\": [\"y\", \"x\"], \"data\": {\"y\": [1.0, 3.0, 5.5], \"x\": [0, 1, 2]}}, \"type\": \"ColumnDataSource\", \"id\": \"1608bd26-34be-448b-8c8a-6caf7bb77f02\"}, {\"attributes\": {}, \"type\": \"ToolEvents\", \"id\": \"09d0b526-c653-4c4a-bb28-4ea67c2742b7\"}, {\"attributes\": {\"line_color\": {\"value\": \"firebrick\"}, \"x\": {\"field\": \"x\"}, \"fill_color\": {\"value\": \"firebrick\"}, \"y\": {\"field\": \"y\"}}, \"type\": \"Rect\", \"id\": \"d59379cd-b7f8-4798-8b3f-ad3f335066fe\"}, {\"attributes\": {}, \"type\": \"ToolEvents\", \"id\": \"54a08203-1536-4bd9-bb61-c7883dd46710\"}, {\"attributes\": {\"callback\": null}, \"type\": \"DataRange1d\", \"id\": \"91ba3f76-f7fd-4ca2-be50-479a9abda550\"}, {\"attributes\": {\"callback\": null}, \"type\": \"DataRange1d\", \"id\": \"8aa60c1a-bfe9-482b-a8d4-86f5232822d3\"}, {\"attributes\": {\"plot\": {\"subtype\": \"Figure\", \"type\": \"Plot\", \"id\": \"c702f90f-8cb2-4e6f-b8af-639f597e06b2\"}}, \"type\": \"ResizeTool\", \"id\": \"b52b3ff3-cb30-44a4-b0b1-7e6eec688db6\"}, {\"attributes\": {\"plot\": {\"subtype\": \"Figure\", \"type\": \"Plot\", \"id\": \"057181fd-9296-4cf1-9c83-8d3c66252f49\"}}, \"type\": \"WheelZoomTool\", \"id\": \"9144d6df-076e-4070-8386-062a7a2151d3\"}, {\"attributes\": {}, \"type\": \"BasicTicker\", \"id\": \"0b92634a-0046-4e77-be41-5c575a9f2f1d\"}, {\"attributes\": {}, \"type\": \"BasicTickFormatter\", \"id\": \"68c87645-df8b-4783-aa38-5893bccd0b05\"}, {\"attributes\": {\"plot\": {\"subtype\": \"Figure\", \"type\": \"Plot\", \"id\": \"358f8f49-b3d4-4edb-8e39-e09e9c41c6e3\"}}, \"type\": \"PreviewSaveTool\", \"id\": \"7429418a-9004-4f87-947d-a0c9b540083a\"}, {\"attributes\": {\"line_color\": {\"value\": \"black\"}, \"line_alpha\": {\"value\": 1.0}, \"render_mode\": \"css\", \"bottom_units\": \"screen\", \"level\": \"overlay\", \"top_units\": \"screen\", \"fill_alpha\": {\"value\": 0.5}, \"plot\": null, \"left_units\": \"screen\", \"line_dash\": [4, 4], \"line_width\": {\"value\": 2}, \"right_units\": \"screen\", \"fill_color\": {\"value\": \"lightgrey\"}}, \"type\": \"BoxAnnotation\", \"id\": \"1bffba33-3407-4089-b415-65f8460d5ca8\"}, {\"attributes\": {\"plot\": {\"subtype\": \"Figure\", \"type\": \"Plot\", \"id\": \"f40baaf3-caa9-4fb5-a76b-abbacb9ad80e\"}}, \"type\": \"ResizeTool\", \"id\": \"861f591c-1455-4023-93ea-a7084d52f32c\"}, {\"attributes\": {\"plot\": {\"subtype\": \"Figure\", \"type\": \"Plot\", \"id\": \"9a29319c-2d0b-4377-9590-6696a820232b\"}, \"formatter\": {\"type\": \"BasicTickFormatter\", \"id\": \"2b3dc141-3ced-40e0-ae01-79d2f845ca4a\"}, \"ticker\": {\"type\": \"BasicTicker\", \"id\": \"c7970296-fcaa-4b9e-9973-4412655a935f\"}}, \"type\": \"LinearAxis\", \"id\": \"ce284349-306c-4fce-8ab6-5b8626a6c7bc\"}, {\"attributes\": {\"line_color\": {\"value\": \"black\"}, \"line_alpha\": {\"value\": 1.0}, \"render_mode\": \"css\", \"bottom_units\": \"screen\", \"level\": \"overlay\", \"top_units\": \"screen\", \"fill_alpha\": {\"value\": 0.5}, \"plot\": null, \"left_units\": \"screen\", \"line_dash\": [4, 4], \"line_width\": {\"value\": 2}, \"right_units\": \"screen\", \"fill_color\": {\"value\": \"lightgrey\"}}, \"type\": \"BoxAnnotation\", \"id\": \"d835f0cb-666b-409c-b814-62a6be18468c\"}, {\"attributes\": {\"plot\": {\"subtype\": \"Figure\", \"type\": \"Plot\", \"id\": \"9a29319c-2d0b-4377-9590-6696a820232b\"}}, \"type\": \"HelpTool\", \"id\": \"833ee927-6a90-4795-961f-9590feff6e37\"}, {\"attributes\": {\"plot\": {\"subtype\": \"Figure\", \"type\": \"Plot\", \"id\": \"c702f90f-8cb2-4e6f-b8af-639f597e06b2\"}}, \"type\": \"ResetTool\", \"id\": \"3bf01ed3-f108-4f37-a623-e6ad831cc70f\"}, {\"attributes\": {}, \"type\": \"BasicTickFormatter\", \"id\": \"c6b764ad-5d54-4c3e-9170-c7c234fa8bb2\"}, {\"attributes\": {\"plot\": {\"subtype\": \"Figure\", \"type\": \"Plot\", \"id\": \"358f8f49-b3d4-4edb-8e39-e09e9c41c6e3\"}, \"overlay\": {\"type\": \"BoxAnnotation\", \"id\": \"196f8d4a-61ce-466a-b058-689cfdb69df5\"}}, \"type\": \"BoxZoomTool\", \"id\": \"b4a7fd77-3a4f-41b4-9825-4ad0e44fdb47\"}, {\"attributes\": {}, \"type\": \"BasicTickFormatter\", \"id\": \"c993ce00-51b6-46b1-9cbc-e4e6faaedde7\"}, {\"attributes\": {}, \"type\": \"BasicTicker\", \"id\": \"c444f05b-6dcd-4f3f-bd78-1652148a325e\"}, {\"attributes\": {\"nonselection_glyph\": {\"type\": \"Square\", \"id\": \"86513a4d-0a81-460c-ba17-59bb1791b619\"}, \"data_source\": {\"type\": \"ColumnDataSource\", \"id\": \"f6569cb5-f154-45e6-a6c8-df8885a232ea\"}, \"selection_glyph\": null, \"hover_glyph\": null, \"glyph\": {\"type\": \"Square\", \"id\": \"75ae8f1a-6e94-4542-bbcf-8d8deeb7583a\"}}, \"type\": \"GlyphRenderer\", \"id\": \"d3eedcdb-8567-456b-a1aa-a73fef129668\"}, {\"attributes\": {\"line_color\": {\"value\": \"#1f77b4\"}, \"line_alpha\": {\"value\": 0.1}, \"fill_color\": {\"value\": \"#1f77b4\"}, \"fill_alpha\": {\"value\": 0.1}, \"y\": {\"field\": \"y\"}, \"x\": {\"field\": \"x\"}}, \"type\": \"Rect\", \"id\": \"fe99dca9-2637-45e4-9f86-8e42614d6c1f\"}, {\"attributes\": {\"plot\": {\"subtype\": \"Figure\", \"type\": \"Plot\", \"id\": \"057181fd-9296-4cf1-9c83-8d3c66252f49\"}, \"overlay\": {\"type\": \"BoxAnnotation\", \"id\": \"99d04576-67f7-4ab0-9a67-d27de15015a3\"}}, \"type\": \"BoxZoomTool\", \"id\": \"fd6fbb64-c878-479b-a480-38c1d00db2d7\"}, {\"attributes\": {\"line_color\": {\"value\": \"black\"}, \"line_alpha\": {\"value\": 1.0}, \"render_mode\": \"css\", \"bottom_units\": \"screen\", \"level\": \"overlay\", \"top_units\": \"screen\", \"fill_alpha\": {\"value\": 0.5}, \"plot\": null, \"left_units\": \"screen\", \"line_dash\": [4, 4], \"line_width\": {\"value\": 2}, \"right_units\": \"screen\", \"fill_color\": {\"value\": \"lightgrey\"}}, \"type\": \"BoxAnnotation\", \"id\": \"99d04576-67f7-4ab0-9a67-d27de15015a3\"}, {\"attributes\": {\"line_color\": {\"value\": \"firebrick\"}, \"x\": {\"field\": \"x\"}, \"fill_color\": {\"value\": \"firebrick\"}, \"y\": {\"field\": \"y\"}}, \"type\": \"Rect\", \"id\": \"333e20ab-2cb1-4c96-a32b-13d657cec32c\"}, {\"attributes\": {\"plot\": {\"subtype\": \"Figure\", \"type\": \"Plot\", \"id\": \"c702f90f-8cb2-4e6f-b8af-639f597e06b2\"}}, \"type\": \"HelpTool\", \"id\": \"d10ab5b2-0edd-4ba0-9667-8277dc58c82d\"}, {\"attributes\": {\"line_color\": {\"value\": \"black\"}, \"line_alpha\": {\"value\": 1.0}, \"render_mode\": \"css\", \"bottom_units\": \"screen\", \"level\": \"overlay\", \"top_units\": \"screen\", \"fill_alpha\": {\"value\": 0.5}, \"plot\": null, \"left_units\": \"screen\", \"line_dash\": [4, 4], \"line_width\": {\"value\": 2}, \"right_units\": \"screen\", \"fill_color\": {\"value\": \"lightgrey\"}}, \"type\": \"BoxAnnotation\", \"id\": \"196f8d4a-61ce-466a-b058-689cfdb69df5\"}, {\"attributes\": {\"callback\": null}, \"type\": \"DataRange1d\", \"id\": \"ff627ba6-92d4-4b38-8ff0-dd93280d9832\"}, {\"attributes\": {\"plot\": {\"subtype\": \"Figure\", \"type\": \"Plot\", \"id\": \"057181fd-9296-4cf1-9c83-8d3c66252f49\"}}, \"type\": \"ResetTool\", \"id\": \"11a580fc-c581-4f19-9f2f-f9e21cd059b0\"}, {\"attributes\": {}, \"type\": \"BasicTicker\", \"id\": \"f059776a-5017-4f68-b520-bfa99118d211\"}, {\"attributes\": {\"plot\": {\"subtype\": \"Figure\", \"type\": \"Plot\", \"id\": \"f40baaf3-caa9-4fb5-a76b-abbacb9ad80e\"}}, \"type\": \"HelpTool\", \"id\": \"343e7bcd-b631-43fb-8a36-f7ad94a9edf9\"}, {\"attributes\": {\"plot\": {\"subtype\": \"Figure\", \"type\": \"Plot\", \"id\": \"f40baaf3-caa9-4fb5-a76b-abbacb9ad80e\"}}, \"type\": \"PanTool\", \"id\": \"c28f516a-f20b-4f44-9fff-f17d30863e42\"}, {\"attributes\": {\"plot\": {\"subtype\": \"Figure\", \"type\": \"Plot\", \"id\": \"f40baaf3-caa9-4fb5-a76b-abbacb9ad80e\"}, \"ticker\": {\"type\": \"BasicTicker\", \"id\": \"aeaa8370-efff-47eb-a106-99011d3b77ec\"}, \"dimension\": 1}, \"type\": \"Grid\", \"id\": \"9f10dba0-46a8-47ea-b7da-55faa25d0904\"}, {\"attributes\": {\"plot\": {\"subtype\": \"Figure\", \"type\": \"Plot\", \"id\": \"c702f90f-8cb2-4e6f-b8af-639f597e06b2\"}}, \"type\": \"WheelZoomTool\", \"id\": \"b1835539-2018-43eb-b721-41c7629ca3a3\"}, {\"attributes\": {\"callback\": null}, \"type\": \"DataRange1d\", \"id\": \"44b45f3f-3c8c-4a9b-a9cf-d7581d873bb7\"}, {\"attributes\": {}, \"type\": \"BasicTickFormatter\", \"id\": \"dea7bb44-fd41-4802-a231-c71542d7836e\"}, {\"attributes\": {}, \"type\": \"ToolEvents\", \"id\": \"76547e8b-59f0-4127-a26d-3f97e357b2e5\"}]}, \"title\": \"Bokeh Application\"}};\n",
       "            var render_items = [{\"notebook_comms_target\": \"af135137-a8fe-48df-94b9-80fd5a0b26f1\", \"docid\": \"8939dc45-5f15-4069-b97f-c75addc7c4e1\", \"elementid\": \"7170c828-7c1c-429d-8c37-212a65a9a26a\", \"modelid\": \"f40baaf3-caa9-4fb5-a76b-abbacb9ad80e\"}];\n",
       "            \n",
       "            Bokeh.embed.embed_items(docs_json, render_items);\n",
       "        });\n",
       "      },\n",
       "      function(Bokeh) {\n",
       "      }\n",
       "    ];\n",
       "  \n",
       "    function run_inline_js() {\n",
       "      for (var i = 0; i < inline_js.length; i++) {\n",
       "        inline_js[i](window.Bokeh);\n",
       "      }\n",
       "    }\n",
       "  \n",
       "    if (window._bokeh_is_loading === 0) {\n",
       "      console.log(\"Bokeh: BokehJS loaded, going straight to plotting\");\n",
       "      run_inline_js();\n",
       "    } else {\n",
       "      load_libs(js_urls, function() {\n",
       "        console.log(\"Bokeh: BokehJS plotting callback run at\", now());\n",
       "        run_inline_js();\n",
       "      });\n",
       "    }\n",
       "  }(this));\n",
       "</script>"
      ]
     },
     "metadata": {},
     "output_type": "display_data"
    },
    {
     "data": {
      "text/plain": [
       "<bokeh.io._CommsHandle at 0x108d96bd0>"
      ]
     },
     "execution_count": 5,
     "metadata": {},
     "output_type": "execute_result"
    }
   ],
   "source": [
    "from igor.binarywave import Waves\n",
    "import numpy as np\n",
    "from igor.binarywave import Waves\n",
    "from bokeh.models import Range1d\n",
    "from bokeh.models.mappers import LinearColorMapper\n",
    "from bokeh.io import output_notebook\n",
    "from bokeh.plotting import figure, show\n",
    "output_notebook()\n",
    "w = Waves('test_data/dat33g2d1x.ibw')\n",
    "\n",
    "# plot = figure(plot_width=540, plot_height=360, title='datnum', title_text_font_size='10pt')\n",
    "# x = w.extent[0]\n",
    "# y = w.extent[2]\n",
    "# dw = w.extent[1]-w.extent[0]\n",
    "# dh = w.extent[3]-w.extent[2]\n",
    "# plot.image(image=[w.y], x=[x], y=[y], dw=[dw], dh=[dh], color_mapper=LinearColorMapper(viridis))\n",
    "# plot.set(x_range=Range1d(w.extent[0], w.extent[1]), y_range=Range1d(w.extent[2], w.extent[3]))\n",
    "\n",
    "# color_bar_range = Range1d(w.y.min(), w.y.max())\n",
    "color_bar = figure(plot_width = 90, plot_height = 360, title = 'None')\n",
    "color_bar.rect(x = [0, 1, 2], y = [1.0, 3.0, 5.5], color='firebrick')\n",
    "show(color_bar)\n",
    "\n",
    "# show(color_bar)"
   ]
  },
  {
   "cell_type": "code",
   "execution_count": 2,
   "metadata": {
    "collapsed": false
   },
   "outputs": [],
   "source": [
    "import os\n",
    "from igor.binarywave import Waves\n",
    "from bokeh.plotting import figure\n",
    "from bokeh.embed import components\n",
    "from bokeh.models import Range1d, ColumnDataSource, HoverTool\n",
    "from bokeh.models.mappers import LinearColorMapper\n",
    "\n",
    "# define colormap\n",
    "viridis = ['#440154', '#440255', '#440357', '#450558', '#45065a', '#45085b', '#46095c', \n",
    "           '#460b5e', '#460c5f', '#460e61', '#470f62', '#471163', '#471265', '#471466', \n",
    "           '#471567', '#471669', '#47186a', '#48196b', '#481a6c', '#481c6e', '#481d6f', \n",
    "           '#481e70', '#482071', '#482172', '#482273', '#482374', '#472575', '#472676', \n",
    "           '#472777', '#472878', '#472a79', '#472b7a', '#472c7b', '#462d7c', '#462f7c', \n",
    "           '#46307d', '#46317e', '#45327f', '#45347f', '#453580', '#453681', '#443781', \n",
    "           '#443982', '#433a83', '#433b83', '#433c84', '#423d84', '#423e85', '#424085', \n",
    "           '#414186', '#414286', '#404387', '#404487', '#3f4587', '#3f4788', '#3e4888', \n",
    "           '#3e4989', '#3d4a89', '#3d4b89', '#3d4c89', '#3c4d8a', '#3c4e8a', '#3b508a', \n",
    "           '#3b518a', '#3a528b', '#3a538b', '#39548b', '#39558b', '#38568b', '#38578c', \n",
    "           '#37588c', '#37598c', '#365a8c', '#365b8c', '#355c8c', '#355d8c', '#345e8d', \n",
    "           '#345f8d', '#33608d', '#33618d', '#32628d', '#32638d', '#31648d', '#31658d', \n",
    "           '#31668d', '#30678d', '#30688d', '#2f698d', '#2f6a8d', '#2e6b8e', '#2e6c8e', \n",
    "           '#2e6d8e', '#2d6e8e', '#2d6f8e', '#2c708e', '#2c718e', '#2c728e', '#2b738e', \n",
    "           '#2b748e', '#2a758e', '#2a768e', '#2a778e', '#29788e', '#29798e', '#287a8e', \n",
    "           '#287a8e', '#287b8e', '#277c8e', '#277d8e', '#277e8e', '#267f8e', '#26808e', \n",
    "           '#26818e', '#25828e', '#25838d', '#24848d', '#24858d', '#24868d', '#23878d', \n",
    "           '#23888d', '#23898d', '#22898d', '#228a8d', '#228b8d', '#218c8d', '#218d8c', \n",
    "           '#218e8c', '#208f8c', '#20908c', '#20918c', '#1f928c', '#1f938b', '#1f948b', \n",
    "           '#1f958b', '#1f968b', '#1e978a', '#1e988a', '#1e998a', '#1e998a', '#1e9a89', \n",
    "           '#1e9b89', '#1e9c89', '#1e9d88', '#1e9e88', '#1e9f88', '#1ea087', '#1fa187', \n",
    "           '#1fa286', '#1fa386', '#20a485', '#20a585', '#21a685', '#21a784', '#22a784', \n",
    "           '#23a883', '#23a982', '#24aa82', '#25ab81', '#26ac81', '#27ad80', '#28ae7f', \n",
    "           '#29af7f', '#2ab07e', '#2bb17d', '#2cb17d', '#2eb27c', '#2fb37b', '#30b47a', \n",
    "           '#32b57a', '#33b679', '#35b778', '#36b877', '#38b976', '#39b976', '#3bba75', \n",
    "           '#3dbb74', '#3ebc73', '#40bd72', '#42be71', '#44be70', '#45bf6f', '#47c06e', \n",
    "           '#49c16d', '#4bc26c', '#4dc26b', '#4fc369', '#51c468', '#53c567', '#55c666', \n",
    "           '#57c665', '#59c764', '#5bc862', '#5ec961', '#60c960', '#62ca5f', '#64cb5d', \n",
    "           '#67cc5c', '#69cc5b', '#6bcd59', '#6dce58', '#70ce56', '#72cf55', '#74d054', \n",
    "           '#77d052', '#79d151', '#7cd24f', '#7ed24e', '#81d34c', '#83d34b', '#86d449', \n",
    "           '#88d547', '#8bd546', '#8dd644', '#90d643', '#92d741', '#95d73f', '#97d83e', \n",
    "           '#9ad83c', '#9dd93a', '#9fd938', '#a2da37', '#a5da35', '#a7db33', '#aadb32', \n",
    "           '#addc30', '#afdc2e', '#b2dd2c', '#b5dd2b', '#b7dd29', '#bade27', '#bdde26', \n",
    "           '#bfdf24', '#c2df22', '#c5df21', '#c7e01f', '#cae01e', '#cde01d', '#cfe11c', \n",
    "           '#d2e11b', '#d4e11a', '#d7e219', '#dae218', '#dce218', '#dfe318', '#e1e318', \n",
    "           '#e4e318', '#e7e419', '#e9e419', '#ece41a', '#eee51b', '#f1e51c', '#f3e51e', \n",
    "           '#f6e61f', '#f8e621', '#fae622', '#fde724']\n",
    "\n",
    "def get_1d_DataSource(w):\n",
    "    \"\"\" Return ColumnDataSource for 1d wave. \"\"\"\n",
    "    return ColumnDataSource(data=dict(x=w.x, y=w.y))\n",
    "\n",
    "def plot_1d_wave(w, plot):\n",
    "    \"\"\" plot 1d wave as a bokeh line. \"\"\"\n",
    "    source = get_1d_DataSource(w)\n",
    "    plot.line('x', 'y', source=source, line_width=2, line_color='firebrick')\n",
    "    return plot\n",
    "    \n",
    "# def plot_2d_wave_rect(w, plot):\n",
    "#     \"\"\" Ceates a 2d colormap by plotting many rectangles of the correct color.\n",
    "#         This method allows bokeh tools like HoverTool to be used to interact with\n",
    "#         the data. Such methods are not possible with plot.image(). \"\"\"\n",
    "\n",
    "def plot_2d_wave_img(w, plot):\n",
    "    \"\"\" Ceates a 2d colormap by plotting many rectangles of the correct color.\n",
    "        This method allows bokeh tools like HoverTool to be used to interact with\n",
    "        the data. Such methods are not possible with plot.image(). \"\"\"\n",
    "    x = w.extent[0]\n",
    "    y = w.extent[2]\n",
    "    dw = w.extent[1]-w.extent[0]\n",
    "    dh = w.extent[3]-w.extent[2]\n",
    "    plot.image(image=[w.y], x=[x], y=[y], dw=[dw], dh=[dh], color_mapper=LinearColorMapper(viridis))\n",
    "    plot.set(x_range=Range1d(w.extent[0], w.extent[1]), y_range=Range1d(w.extent[2], w.extent[3]))\n",
    "    return plot\n",
    "\n",
    "def get_html_plot(filename):\n",
    "    \"\"\" Function that will generate plots then output the html\n",
    "        div and javascript elements to display that code on the webpage. \"\"\"\n",
    "    \n",
    "    # get some file name information\n",
    "    dat, ext = os.path.splitext(os.path.basename(filename))\n",
    "    \n",
    "    # setup figure\n",
    "    TOOLS='pan,wheel_zoom,box_zoom,resize,reset,save,hover'\n",
    "    plot = figure(plot_width=700, plot_height=500, \n",
    "                  title=dat, title_text_font_size='10pt', tools=TOOLS)\n",
    "    plot.logo = None\n",
    "    \n",
    "    # import wave dat\n",
    "    try:\n",
    "        w = Waves(filename, transpose=True)\n",
    "    except Exception as e:\n",
    "        raise ImportError('Cannot load wave from .ibw: {0}'.format(e))\n",
    "\n",
    "    if w.d == 1:\n",
    "    # generate 1d plot\n",
    "        plot = plot_2d_wave(w, plot)\n",
    "    elif w.d == 2: \n",
    "    # generate 2d plot\n",
    "        plot = plot_2d_wave_img(w, plot)\n",
    "    else:\n",
    "        # add text to plot indicating that there was an error\n",
    "        raise ValueError('Number of wave dimensions is greater than 2.')\n",
    "        \n",
    "    return compontents(plot)"
   ]
  },
  {
   "cell_type": "code",
   "execution_count": null,
   "metadata": {
    "collapsed": true
   },
   "outputs": [],
   "source": []
  }
 ],
 "metadata": {
  "kernelspec": {
   "display_name": "Python 2",
   "language": "python",
   "name": "python2"
  },
  "language_info": {
   "codemirror_mode": {
    "name": "ipython",
    "version": 2
   },
   "file_extension": ".py",
   "mimetype": "text/x-python",
   "name": "python",
   "nbconvert_exporter": "python",
   "pygments_lexer": "ipython2",
   "version": "2.7.11"
  }
 },
 "nbformat": 4,
 "nbformat_minor": 0
}
