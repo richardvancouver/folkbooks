{
 "cells": [
  {
   "cell_type": "code",
   "execution_count": 149,
   "metadata": {
    "collapsed": false
   },
   "outputs": [],
   "source": [
    "%matplotlib inline\n",
    "import matplotlib as mpl\n",
    "import matplotlib.pyplot as plt\n",
    "mpl.style.use('/Users/nik/Dropbox/Repos/notebooks/thesisrc.py')\n",
    "mpl.rcParams['figure.figsize'] = (8.0, 6.0)\n",
    "import numpy as np\n",
    "import pandas as pd\n",
    "from igor.binarywave import Waves\n",
    "from scipy.interpolate import interp1d"
   ]
  },
  {
   "cell_type": "code",
   "execution_count": 150,
   "metadata": {
    "collapsed": false
   },
   "outputs": [
    {
     "name": "stdout",
     "output_type": "stream",
     "text": [
      "/Users/nik/Data/magnet_cernox_calibration\n"
     ]
    }
   ],
   "source": [
    "cd '/Users/nik/Data/magnet_cernox_calibration'"
   ]
  },
  {
   "cell_type": "code",
   "execution_count": 151,
   "metadata": {
    "collapsed": false
   },
   "outputs": [],
   "source": [
    "# data set 1\n",
    "diode = Waves('dat0diode.ibw').y\n",
    "fourk = Waves('dat0fourk.ibw').y\n",
    "cernox = Waves('dat0cernox.ibw').y\n",
    "\n",
    "df1 = pd.DataFrame({'Diode':diode, '4K':fourk, 'Cernox':cernox})\n",
    "df1.sort('Cernox', inplace=True)\n",
    "grouped1 = df1.groupby('Cernox', as_index=False).mean()\n",
    "\n",
    "# data set 2\n",
    "diode = Waves('dat2diode.ibw').y\n",
    "fourk = Waves('dat2fourk.ibw').y\n",
    "cernox = Waves('dat2cernox.ibw').y\n",
    "\n",
    "df2 = pd.DataFrame({'Diode':diode, '4K':fourk, 'Cernox':cernox})\n",
    "df2.sort('Cernox', inplace=True)\n",
    "grouped2 = df2.groupby('Cernox', as_index=False).mean()\n",
    "\n",
    "# data set 3\n",
    "diode = Waves('dat3diode.ibw').y\n",
    "fourk = Waves('dat3fourk.ibw').y\n",
    "cernox = Waves('dat3cernox.ibw').y\n",
    "\n",
    "df3 = pd.DataFrame({'Diode':diode, '4K':fourk, 'Cernox':cernox})\n",
    "df3.sort('Cernox', inplace=True)\n",
    "grouped3 = df3.groupby('Cernox', as_index=False).mean()\n",
    "\n",
    "# combine, cutting out some noisy data\n",
    "df = pd.concat([grouped1, grouped2[grouped2['4K']<4.5], grouped3])\n",
    "df.sort('Cernox', inplace=True)\n",
    "grouped = df.groupby('Cernox', as_index=False).mean()"
   ]
  },
  {
   "cell_type": "code",
   "execution_count": 152,
   "metadata": {
    "collapsed": false
   },
   "outputs": [
    {
     "data": {
      "text/html": [
       "<div style=\"max-height:1000px;max-width:1500px;overflow:auto;\">\n",
       "<table border=\"1\" class=\"dataframe\">\n",
       "  <thead>\n",
       "    <tr style=\"text-align: right;\">\n",
       "      <th></th>\n",
       "      <th>Cernox</th>\n",
       "      <th>4K</th>\n",
       "      <th>Diode</th>\n",
       "    </tr>\n",
       "  </thead>\n",
       "  <tbody>\n",
       "    <tr>\n",
       "      <th>0</th>\n",
       "      <td>74.345001</td>\n",
       "      <td>299.306244</td>\n",
       "      <td>0.558900</td>\n",
       "    </tr>\n",
       "    <tr>\n",
       "      <th>1</th>\n",
       "      <td>74.346001</td>\n",
       "      <td>299.240326</td>\n",
       "      <td>0.558908</td>\n",
       "    </tr>\n",
       "    <tr>\n",
       "      <th>2</th>\n",
       "      <td>74.347000</td>\n",
       "      <td>299.135986</td>\n",
       "      <td>0.558918</td>\n",
       "    </tr>\n",
       "    <tr>\n",
       "      <th>3</th>\n",
       "      <td>74.348000</td>\n",
       "      <td>299.302002</td>\n",
       "      <td>0.558898</td>\n",
       "    </tr>\n",
       "    <tr>\n",
       "      <th>4</th>\n",
       "      <td>74.348999</td>\n",
       "      <td>299.291351</td>\n",
       "      <td>0.558904</td>\n",
       "    </tr>\n",
       "  </tbody>\n",
       "</table>\n",
       "</div>"
      ],
      "text/plain": [
       "      Cernox          4K     Diode\n",
       "0  74.345001  299.306244  0.558900\n",
       "1  74.346001  299.240326  0.558908\n",
       "2  74.347000  299.135986  0.558918\n",
       "3  74.348000  299.302002  0.558898\n",
       "4  74.348999  299.291351  0.558904"
      ]
     },
     "execution_count": 152,
     "metadata": {},
     "output_type": "execute_result"
    }
   ],
   "source": [
    "grouped.head()"
   ]
  },
  {
   "cell_type": "code",
   "execution_count": 153,
   "metadata": {
    "collapsed": false
   },
   "outputs": [],
   "source": [
    "# load diode calibration and interpolate down to 1mV steps\n",
    "s900 = np.loadtxt('s900_calibration.txt')[:,1:] # [temp, voltage]\n",
    "step = 0.001\n",
    "volts = np.arange(s900[0,1], s900[-1,1], step)\n",
    "get_temps = interp1d(s900[:,1], s900[:,0], kind='cubic')"
   ]
  },
  {
   "cell_type": "code",
   "execution_count": 154,
   "metadata": {
    "collapsed": true
   },
   "outputs": [],
   "source": [
    "# now I can feed any measured voltage into get_temps\n",
    "grouped['T_Diode'] = get_temps(grouped['Diode'])"
   ]
  },
  {
   "cell_type": "code",
   "execution_count": 248,
   "metadata": {
    "collapsed": false
   },
   "outputs": [
    {
     "data": {
      "text/plain": [
       "(100.0, 10000.0)"
      ]
     },
     "execution_count": 248,
     "metadata": {},
     "output_type": "execute_result"
    },
    {
     "data": {
      "image/png": "[encoded data removed]",
      "text/plain": [
       "<matplotlib.figure.Figure at 0x10b61e090>"
      ]
     },
     "metadata": {},
     "output_type": "display_data"
    }
   ],
   "source": [
    "fig, ax = plt.subplots(1,1)\n",
    "ax.plot(grouped['T_Diode'], grouped['Cernox'])\n",
    "ax.set_xscale('log')\n",
    "# ax.set_yscale('log')\n",
    "ax.grid(which='both')\n",
    "ax.set_xlim(3,330)\n",
    "ax.set_ylim(1e2,1e4)"
   ]
  },
  {
   "cell_type": "markdown",
   "metadata": {},
   "source": [
    "Now that I have that, I can take a guess that this is a CX-1070 from Lakeshore. http://www.lakeshore.com/Documents/CX_RSDSsm.pdf"
   ]
  },
  {
   "cell_type": "code",
   "execution_count": 257,
   "metadata": {
    "collapsed": false
   },
   "outputs": [],
   "source": [
    "temps = np.linspace(np.log10(3.92), np.log10(299), 200)\n",
    "temps = 10**temps\n",
    "get_cernox = interp1d(grouped['T_Diode'], grouped['Cernox'], kind='linear')\n",
    "resistances = get_cernox(temps)\n",
    "nums = np.arange(len(temps))\n",
    "cernox_calibration = np.vstack((nums+1, np.log10(resistances[::-1]), temps[::-1])).transpose()"
   ]
  },
  {
   "cell_type": "code",
   "execution_count": 258,
   "metadata": {
    "collapsed": false
   },
   "outputs": [
    {
     "data": {
      "text/plain": [
       "(3, 330)"
      ]
     },
     "execution_count": 258,
     "metadata": {},
     "output_type": "execute_result"
    },
    {
     "data": {
      "image/png": "[encoded data removed]",
      "text/plain": [
       "<matplotlib.figure.Figure at 0x10b3ebe10>"
      ]
     },
     "metadata": {},
     "output_type": "display_data"
    }
   ],
   "source": [
    "fig, ax = plt.subplots(1,1)\n",
    "ax.plot(grouped['T_Diode'], grouped['Cernox'])\n",
    "ax.plot(temps, resistances, '.')\n",
    "ax.set_xscale('log')\n",
    "# ax.set_yscale('log')\n",
    "ax.grid(which='both')\n",
    "ax.set_xlim(3,330)\n",
    "# ax.set_ylim(1e2,1e4)"
   ]
  },
  {
   "cell_type": "code",
   "execution_count": 259,
   "metadata": {
    "collapsed": true
   },
   "outputs": [],
   "source": [
    "np.savetxt('magnet_cernox_calibration.txt', cernox_calibration, fmt=\"%.6f\", delimiter=',')"
   ]
  },
  {
   "cell_type": "code",
   "execution_count": 253,
   "metadata": {
    "collapsed": false
   },
   "outputs": [
    {
     "data": {
      "text/plain": [
       "9331.599609375"
      ]
     },
     "execution_count": 253,
     "metadata": {},
     "output_type": "execute_result"
    }
   ],
   "source": [
    "grouped['Cernox'].max()"
   ]
  },
  {
   "cell_type": "code",
   "execution_count": 262,
   "metadata": {
    "collapsed": false
   },
   "outputs": [
    {
     "data": {
      "text/plain": [
       "array([   74.35963047,    75.76706897,    77.23402195,    78.76218397,\n",
       "          80.32503289,    81.94320302,    83.58205977,    85.25039988,\n",
       "          86.99234996,    88.77317907,    90.60492593,    92.46560619,\n",
       "          94.37436855,    96.30630215,    98.33513379,   100.36175214,\n",
       "         102.47817288,   104.66129452,   106.87006527,   109.13066883,\n",
       "         111.41426571,   113.79257953,   116.18474986,   118.62612799,\n",
       "         121.13032114,   123.74824059,   126.33595726,   129.03286496,\n",
       "         131.72535496,   134.48324727,   137.32738965,   140.218453  ,\n",
       "         143.18522859,   146.23556901,   149.33942025,   152.42174322,\n",
       "         155.63558825,   158.94739684,   162.23297044,   165.65316052,\n",
       "         169.05191974,   172.59005864,   176.1375847 ,   179.74235671,\n",
       "         183.55106928,   187.2851428 ,   191.10842438,   195.07544964,\n",
       "         199.24311613,   203.43665011,   207.62906172,   211.96357216,\n",
       "         216.34721326,   220.84446608,   225.44977509,   230.15516951,\n",
       "         234.97463072,   239.84596249,   244.83280251,   249.90845346,\n",
       "         254.94686652,   260.05909097,   265.66501132,   271.32882892,\n",
       "         277.11262662,   282.56517691,   288.60093376,   294.89995494,\n",
       "         301.33283437,   307.32392029,   314.03804848,   320.22664262,\n",
       "         327.26219471,   333.82609147,   341.11590096,   347.42969106,\n",
       "         355.48522502,   362.38982645,   370.59711258,   377.74260371,\n",
       "         385.85809752,   393.4175141 ,   400.93585621,   409.98596407,\n",
       "         418.01016848,   428.08180003,   436.3907298 ,   445.02869566,\n",
       "         455.88188035,   465.83837757,   475.57817397,   485.20599834,\n",
       "         497.41671463,   507.79355837,   519.55863647,   530.24979572,\n",
       "         542.99731068,   557.44741693,   568.47297394,   582.13560584,\n",
       "         593.42364475,   611.06460099,   624.81962746,   640.39245843,\n",
       "         654.56142336,   665.87066081,   682.25635559,   693.83819464,\n",
       "         711.62080723,   730.45181653,   740.16739412,   751.18578416,\n",
       "         764.05706996,   782.07291656,   795.71995405,   806.91253219,\n",
       "         817.9312659 ,   829.67456658,   843.73596141,   858.77456463,\n",
       "         881.09935538,   897.50778045,   922.3189739 ,   952.53840977,\n",
       "         970.76017089,   998.89582357,  1019.31154232,  1035.78355881,\n",
       "        1052.7159134 ,  1070.51216629,  1090.57280457,  1111.29212144,\n",
       "        1133.45751502,  1161.53612607,  1187.07372695,  1206.68648218,\n",
       "        1226.96583044,  1250.50218637,  1272.90939011,  1293.86425782,\n",
       "        1314.64966864,  1336.61140071,  1358.09996337,  1395.82531514,\n",
       "        1437.26316702,  1491.71677588,  1552.28228599,  1600.95498248,\n",
       "        1635.02535251,  1668.23251022,  1700.06921301,  1731.21998839,\n",
       "        1763.90197515,  1798.31489794,  1831.98638823,  1890.78066281,\n",
       "        1956.57172729,  2015.67179037,  2066.30365369,  2115.5456399 ,\n",
       "        2161.58935073,  2206.64104166,  2256.73512294,  2308.72034562,\n",
       "        2368.04030961,  2432.57126634,  2521.80439248,  2603.3921045 ,\n",
       "        2668.10642755,  2746.57929207,  2886.31903685,  3028.7200927 ,\n",
       "        3120.2362123 ,  3197.74818922,  3293.57495394,  3401.90407614,\n",
       "        3524.95242577,  3629.72410772,  3749.24400844,  3871.96682397,\n",
       "        4050.84760488,  4117.68356652,  4183.07953554,  4247.06653682,\n",
       "        4374.92725842,  4536.48315624,  4698.00468949,  4872.54302188,\n",
       "        5043.320895  ,  5251.37108203,  5464.34598191,  5767.10065214,\n",
       "        6248.79373839,  6648.61169055,  7113.08431073,  7464.40690347,\n",
       "        7814.72431837,  8270.44222021,  8828.61991886,  9276.13558324])"
      ]
     },
     "execution_count": 262,
     "metadata": {},
     "output_type": "execute_result"
    }
   ],
   "source": [
    "resistances[::-1]"
   ]
  },
  {
   "cell_type": "code",
   "execution_count": null,
   "metadata": {
    "collapsed": true
   },
   "outputs": [],
   "source": []
  }
 ],
 "metadata": {
  "kernelspec": {
   "display_name": "Python 2",
   "language": "python",
   "name": "python2"
  },
  "language_info": {
   "codemirror_mode": {
    "name": "ipython",
    "version": 2
   },
   "file_extension": ".py",
   "mimetype": "text/x-python",
   "name": "python",
   "nbconvert_exporter": "python",
   "pygments_lexer": "ipython2",
   "version": "2.7.11"
  }
 },
 "nbformat": 4,
 "nbformat_minor": 0
}
