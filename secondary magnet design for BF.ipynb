{
 "cells": [
  {
   "cell_type": "markdown",
   "metadata": {},
   "source": [
    "Trying to design a second magnet for the small BlueFors fridge."
   ]
  },
  {
   "cell_type": "code",
   "execution_count": 50,
   "metadata": {
    "collapsed": true
   },
   "outputs": [],
   "source": [
    "%matplotlib inline\n",
    "from __future__ import division\n",
    "import matplotlib.pyplot as plt\n",
    "import numpy as np"
   ]
  },
  {
   "cell_type": "code",
   "execution_count": 142,
   "metadata": {
    "collapsed": true
   },
   "outputs": [],
   "source": [
    "def area_bisected_circle(R, x):\n",
    "    # angles are in radians\n",
    "    theta = np.arccos(x/R)\n",
    "    triangle_area = x*R*np.sin(theta)\n",
    "    pie_area = np.pi*(R**2)*(1 - theta/(np.pi))\n",
    "    return pie_area+triangle_area"
   ]
  },
  {
   "cell_type": "code",
   "execution_count": 152,
   "metadata": {
    "collapsed": false
   },
   "outputs": [
    {
     "name": "stdout",
     "output_type": "stream",
     "text": [
      "689.1 mm^2\n"
     ]
    }
   ],
   "source": [
    "# the area avalible for the magnet coils\n",
    "print \"{0:.1f} mm^2\".format(area_bisected_circle(28.5, 23.5)-area_bisected_circle(28.5, 8.5))"
   ]
  },
  {
   "cell_type": "markdown",
   "metadata": {},
   "source": [
    "This is an approximately trapezoidal slice out of a circle. The sides have lengths..."
   ]
  },
  {
   "cell_type": "code",
   "execution_count": 153,
   "metadata": {
    "collapsed": false
   },
   "outputs": [
    {
     "name": "stdout",
     "output_type": "stream",
     "text": [
      "short side = 32.2 mm, long side = 54.4 mm, center = 15.0 mm\n"
     ]
    }
   ],
   "source": [
    "print \"short side = {0:.1f} mm, long side = {1:.1f} mm, center = {2} mm\".format(\n",
    "    2*28.5*np.sin(np.arccos(23.5/28.5)), 2*28.5*np.sin(np.arccos(8.5/28.5)), 23.5-8.5)"
   ]
  },
  {
   "cell_type": "markdown",
   "metadata": {},
   "source": [
    "Ok. to take some guess at how many windings will fit I need to guess at the inner diameter of the coil. If a device is about 10mm square, let's say 25mm for the magnet coil."
   ]
  },
  {
   "cell_type": "code",
   "execution_count": 161,
   "metadata": {
    "collapsed": false
   },
   "outputs": [
    {
     "name": "stdout",
     "output_type": "stream",
     "text": [
      "N = 1377\n"
     ]
    }
   ],
   "source": [
    "coil_area = (689.1-25*15)/2\n",
    "wire_diameter = 0.33\n",
    "wire_area = np.pi*(wire_diameter/2)**2\n",
    "N = coil_area/wire_area*0.75\n",
    "print \"N = {0:.0f}\".format(N)"
   ]
  },
  {
   "cell_type": "markdown",
   "metadata": {},
   "source": [
    "That is quite a large number of coils.\n",
    "\n",
    "Let's call it 1350, just to be safe. And now we can estimate some fields. First, let's assume the coils have a square cross section with the same area that I have calculated here, so N and L remain constant for the solenoid."
   ]
  },
  {
   "cell_type": "code",
   "execution_count": 155,
   "metadata": {
    "collapsed": false
   },
   "outputs": [
    {
     "name": "stdout",
     "output_type": "stream",
     "text": [
      "approximate width of coils with L=15mm ~ 10.5 mm\n"
     ]
    }
   ],
   "source": [
    "print \"approximate width of coils with L=15mm ~ {0:.1f} mm\".format(coil_area/15.0)"
   ]
  },
  {
   "cell_type": "markdown",
   "metadata": {},
   "source": [
    "Following the math at this link to determin the field along the solenoid axis: http://nbviewer.jupyter.org/github/tiggerntatie/emagnet-py/blob/master/solenoids/solenoid.ipynb \n",
    "\n",
    "The field from the solenoid is:\n",
    "\n",
    "$B = \\frac {\\mu_o i n}{2 (r_2 - r_1)} \\left [  x_2 \\ln \\left ( \\frac {\\sqrt{r_2^2 + x_2^2} + r_2}{\\sqrt{r_1^2 + x_2^2} + r_1} \\right ) - x_1 \\ln \\left ( \\frac {\\sqrt{r_2^2 + x_1^2} + r_2}{\\sqrt{r_1^2 + x_1^2} + r_1} \\right ) \\right ]$"
   ]
  },
  {
   "cell_type": "code",
   "execution_count": 146,
   "metadata": {
    "collapsed": false
   },
   "outputs": [],
   "source": [
    "# this is going to get ugly\n",
    "# need to calculate the axial component and radial component\n",
    "# make color plots of each\n",
    "\n",
    "# SI units for this\n",
    "eps = 1e-7 # machine error\n",
    "mu0 = 1.25e-6 # permeability of free space\n",
    " \n",
    "def B_on_axis_general(x1, x2, I, n, r1, r2):\n",
    "    B0 = mu0*I*n/(2.0*(r2-r1))\n",
    "    B1 = x2*np.log((np.sqrt(r2**2+x2**2)+r2)/(np.sqrt(r1**2+x2**2)+r1))\n",
    "    B2 = x1*np.log((np.sqrt(r2**2+x1**2)+r2)/(np.sqrt(r1**2+x1**2)+r1))\n",
    "    return B0*(B1-B2)\n",
    "\n",
    "def B_on_axis(x, I, L, N, r1, r2):\n",
    "    x2 = x + L/2.0\n",
    "    x1 = x - L/2.0\n",
    "    n = N/L\n",
    "    return b_on_axis_general(x1, x2, I, n, r1, r2)\n",
    "\n",
    "def eps2(alpha, beta):\n",
    "    c1 = 1.0/(1+beta**2)\n",
    "    c3 = alpha**2/(alpha**2 + beta**2)\n",
    "    c5 = np.log((alpha + np.sqrt(alpha**2 + beta**2))/(1 + np.sqrt(1 + beta**2)))\n",
    "    return (1/(2*(beta**2)*c5))*(pow(c1, 3/2)-pow(c3,3/2))\n",
    "\n",
    "def eps4(alpha, beta):\n",
    "    c1 = 1.0/(1+beta**2)\n",
    "    c2 = (beta**2)/(1 + beta**2)\n",
    "    c3 = (alpha**2)/(alpha**2 + beta**2)\n",
    "    c4 = (beta**2)/(alpha**2 + beta**2)\n",
    "    c5 = np.log((alpha + np.sqrt(alpha**2 + beta**2))/(1 + np.sqrt(1 + beta**2)))\n",
    "    e0 = 1/(12*(beta**4)*c5)\n",
    "    e1 = pow(c1, 3/2)*(1 + (3/2)*c2 + (15/2)*c2**2)\n",
    "    e2 = pow(c3, 3/2)*(1 + (3/2)*c4 + (15/2)*c4**2)\n",
    "    return e0*(e1-e2)\n",
    "\n",
    "def rho2(u):\n",
    "    return (1/2)*(3*u**2 - 1)\n",
    "\n",
    "def drho2(u, du):\n",
    "    return 3*u*du\n",
    "\n",
    "def rho4(u):\n",
    "    return (1/8)*(35*u**4 - 30*u**2 + 3)\n",
    "\n",
    "def drho4(u,du):\n",
    "    return (1/8)*(35*4*u**3 - 30*2*u)*du\n",
    "\n",
    "def B_off_axis_axial(r, x, I, L, N, r1, r2):\n",
    "    B0 = b_on_axis(x, I, L, N, r1, r2)\n",
    "    \n",
    "    d = np.sqrt(x**2+r**2)\n",
    "    theta = np.arctan(r/x)\n",
    "    u = np.cos(theta)\n",
    "    du = np.sin(theta)\n",
    "    alpha = r2/r1\n",
    "    beta = L/(2*r1)\n",
    "\n",
    "    series = 1.0\n",
    "    series += eps2(alpha,beta)*((d/r1)**2)*rho2(u)\n",
    "    series += eps4(alpha,beta)*((d/r1)**4)*rho4(u)\n",
    "    return series\n",
    "\n",
    "def B_off_axis_radial(r, x, I, L, N, r1, r2):\n",
    "    B0 = b_on_axis(x, I, L, N, r1, r2)\n",
    "    \n",
    "    d = np.sqrt(x**2+r**2)\n",
    "    theta = np.arctan(r/x)\n",
    "    u = np.cos(theta)\n",
    "    du = np.sin(theta)\n",
    "    alpha = r2/r1\n",
    "    beta = L/(2*r1)\n",
    "\n",
    "    series = eps2(alpha,beta)*((d/r1)**2)*drho2(u, du)\n",
    "    series += eps4(alpha,beta)*((d/r1)**4)*drho4(u, du)\n",
    "    return series"
   ]
  },
  {
   "cell_type": "code",
   "execution_count": 202,
   "metadata": {
    "collapsed": false
   },
   "outputs": [
    {
     "data": {
      "text/plain": [
       "(0, 30)"
      ]
     },
     "execution_count": 202,
     "metadata": {},
     "output_type": "execute_result"
    },
    {
     "data": {
      "image/png": "[encoded data removed]",
      "text/plain": [
       "<matplotlib.figure.Figure at 0x10c1c2350>"
      ]
     },
     "metadata": {},
     "output_type": "display_data"
    }
   ],
   "source": [
    "# sample lives at x=15 in this sketch\n",
    "x = np.linspace(0,30e-3, 200)\n",
    "fig, ax = plt.subplots(1,1)\n",
    "for I in [60, 80, 100, 120]:\n",
    "    ax.plot(x*1000, 1000*b_on_axis(x, I, 12e-3, 500, 15.5e-3, 23.0e-3), label='{0}A'.format(I))\n",
    "ax.plot(np.ones(200)*15, np.linspace(0,6000, 200), 'y', lw=4, alpha=0.5)\n",
    "ax.grid()\n",
    "ax.legend()\n",
    "ax.set_ylabel('B (mT)')\n",
    "ax.set_xlabel(\"distance from magnet center (mm)\")\n",
    "ax.set_title(\"on-axis field\")\n",
    "ax.set_xlim(0, 30)\n",
    "# ax.set_ylim(0, 1250)"
   ]
  },
  {
   "cell_type": "markdown",
   "metadata": {},
   "source": [
    "Cool. Now look at the radial dependence of the axial field"
   ]
  },
  {
   "cell_type": "code",
   "execution_count": 229,
   "metadata": {
    "collapsed": false
   },
   "outputs": [
    {
     "data": {
      "text/plain": [
       "(0.8, 1.1)"
      ]
     },
     "execution_count": 229,
     "metadata": {},
     "output_type": "execute_result"
    },
    {
     "data": {
      "image/png": "[encoded data removed]",
      "text/plain": [
       "<matplotlib.figure.Figure at 0x10ce07c90>"
      ]
     },
     "metadata": {},
     "output_type": "display_data"
    }
   ],
   "source": [
    "# sample lives at x=15 in this sketch\n",
    "r = np.linspace(-12e-3,12e-3, 200) # expansion only valid near center of magnet, this is pushing it\n",
    "fig, ax = plt.subplots(1,1)\n",
    "for d in [6, 9 , 11]:\n",
    "    B = B_off_axis_axial(r, d*1e-3, 60, 7.6e-3, 500, 15.5e-3, 23.0e-3)\n",
    "    axial_max = B[100]\n",
    "    ax.plot(1000*r, B/axial_max, label='{0} mm'.format(d))\n",
    "# ax.plot(np.ones(200)*15, np.linspace(0,1500, 200), 'y', lw=4, alpha=0.5)\n",
    "ax.grid()\n",
    "ax.legend()\n",
    "ax.set_ylabel('B/B_max')\n",
    "ax.set_xlabel(\"radial distance from magnet center (mm)\")\n",
    "ax.set_title(\"off-axis axial field\")\n",
    "ax.set_xlim(-5, 5)\n",
    "ax.set_ylim(0.8, 1.1)"
   ]
  },
  {
   "cell_type": "markdown",
   "metadata": {},
   "source": [
    "And there's the problem."
   ]
  },
  {
   "cell_type": "code",
   "execution_count": 186,
   "metadata": {
    "collapsed": false
   },
   "outputs": [
    {
     "data": {
      "text/plain": [
       "(0, 1.1)"
      ]
     },
     "execution_count": 186,
     "metadata": {},
     "output_type": "execute_result"
    },
    {
     "data": {
      "image/png": "[encoded data removed]",
      "text/plain": [
       "<matplotlib.figure.Figure at 0x10cd30550>"
      ]
     },
     "metadata": {},
     "output_type": "display_data"
    }
   ],
   "source": [
    "# sample lives at x=15 in this sketch\n",
    "r = np.linspace(-12e-3,12e-3, 200) # expansion only valid near center of magnet, this is pushing it\n",
    "fig, ax = plt.subplots(1,1)\n",
    "B = B_off_axis_radial(r, 12e-3, 60, 17e-3, 1350, 18e-3, 23.0e-3)\n",
    "ax.plot(1000*r, np.abs(B)/axial_max)\n",
    "# ax.plot(np.ones(200)*15, np.linspace(0,1500, 200), 'y', lw=4, alpha=0.5)\n",
    "ax.grid()\n",
    "ax.set_ylabel('B (mT)')\n",
    "ax.set_xlabel(\"radial distance from magnet center (mm)\")\n",
    "ax.set_title(\"off-axis axial field\")\n",
    "ax.set_xlim(-5, 5)\n",
    "ax.set_ylim(0, 1.1)\n",
    "# ax.set_ylim(0, 1250)"
   ]
  },
  {
   "cell_type": "markdown",
   "metadata": {},
   "source": [
    "This approximation is... fine. It might not be useful, but it gives roughly the right results."
   ]
  },
  {
   "cell_type": "code",
   "execution_count": 230,
   "metadata": {
    "collapsed": false
   },
   "outputs": [
    {
     "data": {
      "text/plain": [
       "(0, 3000)"
      ]
     },
     "execution_count": 230,
     "metadata": {},
     "output_type": "execute_result"
    },
    {
     "data": {
      "image/png": "[encoded data removed]",
      "text/plain": [
       "<matplotlib.figure.Figure at 0x10c14ced0>"
      ]
     },
     "metadata": {},
     "output_type": "display_data"
    }
   ],
   "source": [
    "# sample lives at x=15 in this sketch\n",
    "x = np.linspace(0,30e-3, 200)\n",
    "fig, ax = plt.subplots(1,1)\n",
    "for N in [250, 500, 750, 1000]:\n",
    "    ax.plot(x*1000, 1000*b_on_axis(x, I, 11e-3, N, 15.5e-3, 23.0e-3), label='{0}'.format(N))\n",
    "ax.plot(np.ones(200)*15, np.linspace(0,6000, 200), 'y', lw=4, alpha=0.5)\n",
    "ax.grid()\n",
    "ax.legend()\n",
    "ax.set_ylabel('B (mT)')\n",
    "ax.set_xlabel(\"distance from magnet center (mm)\")\n",
    "ax.set_title(\"on-axis field\")\n",
    "ax.set_xlim(10, 20)\n",
    "ax.set_ylim(0, 3000)"
   ]
  },
  {
   "cell_type": "markdown",
   "metadata": {},
   "source": [
    "Based on that, let's say we go with N=500. "
   ]
  },
  {
   "cell_type": "code",
   "execution_count": 201,
   "metadata": {
    "collapsed": false
   },
   "outputs": [
    {
     "name": "stdout",
     "output_type": "stream",
     "text": [
      "the magnet cross section for 500 turns is 57.0 mm\n",
      "that is a square with 7.6 mm sides, or a circle with 8.5 mm diameter\n"
     ]
    }
   ],
   "source": [
    "N = 500\n",
    "wire_diameter = 0.33\n",
    "wire_area = np.pi*(wire_diameter/2)**2\n",
    "cross_section = wire_area*N/0.75\n",
    "print \"the magnet cross section for {0:d} turns is {1:.1f} mm\".format(N, cross_section)\n",
    "print \"that is a square with {0:.1f} mm sides, or a circle with {1:.1f} mm diameter\".format(\n",
    "        np.sqrt(cross_section), np.sqrt(4*cross_section/np.pi))"
   ]
  },
  {
   "cell_type": "markdown",
   "metadata": {},
   "source": [
    "The questions remaining are... How much force does this put on any structural support? What type of wire is best (single or multiple filament)? Can I push the magnet any closer to the sample?"
   ]
  },
  {
   "cell_type": "code",
   "execution_count": 207,
   "metadata": {
    "collapsed": false
   },
   "outputs": [
    {
     "data": {
      "text/plain": [
       "526.1320432789928"
      ]
     },
     "execution_count": 207,
     "metadata": {},
     "output_type": "execute_result"
    }
   ],
   "source": [
    "60/wire_area*0.75"
   ]
  }
 ],
 "metadata": {
  "kernelspec": {
   "display_name": "Python 2",
   "language": "python",
   "name": "python2"
  },
  "language_info": {
   "codemirror_mode": {
    "name": "ipython",
    "version": 2
   },
   "file_extension": ".py",
   "mimetype": "text/x-python",
   "name": "python",
   "nbconvert_exporter": "python",
   "pygments_lexer": "ipython2",
   "version": "2.7.11"
  }
 },
 "nbformat": 4,
 "nbformat_minor": 0
}
