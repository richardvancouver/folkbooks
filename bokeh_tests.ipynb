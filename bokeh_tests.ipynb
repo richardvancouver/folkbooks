{
 "cells": [
  {
   "cell_type": "markdown",
   "metadata": {},
   "source": [
    "Working through this http://bokeh.pydata.org/en/latest/docs/user_guide.html"
   ]
  },
  {
   "cell_type": "code",
   "execution_count": 2,
   "metadata": {
    "collapsed": true
   },
   "outputs": [],
   "source": [
    "import numpy as np\n",
    "import matplotlib.pyplot as plt\n",
    "import bokeh"
   ]
  },
  {
   "cell_type": "code",
   "execution_count": 3,
   "metadata": {
    "collapsed": false
   },
   "outputs": [
    {
     "name": "stderr",
     "output_type": "stream",
     "text": [
      "ERROR:/usr/local/lib/python2.7/site-packages/bokeh/core/validation/check.pyc:W-1001 (NO_DATA_RENDERERS): Plot has no data renderers: Figure, ViewModel:Plot, ref _id: d1110929-f082-4798-a645-1e6b0455a1c9\n"
     ]
    }
   ],
   "source": [
    "from bokeh.plotting import figure, output_file, show\n",
    "output_file(\"test_again.html\") # opens at file:///Users/nik/Dropbox/Repos/folkbooks/test.html\n",
    "p = figure()\n",
    "x = np.linspace(1,5,5)\n",
    "y = np.random.rand(5)\n",
    "p.line(x, y, line_width=2)\n",
    "show(p)"
   ]
  },
  {
   "cell_type": "code",
   "execution_count": null,
   "metadata": {
    "collapsed": false
   },
   "outputs": [],
   "source": [
    "# from bokeh.plotting import figure, output_notebook, show\n",
    "# output_notebook() # opens right in this notebook\n",
    "# p = figure()\n",
    "# p.line([1, 2, 3, 4, 5], [6, 7, 2, 4, 5], line_width=2)\n",
    "# show(p)"
   ]
  },
  {
   "cell_type": "code",
   "execution_count": null,
   "metadata": {
    "collapsed": false
   },
   "outputs": [],
   "source": [
    "from bokeh.plotting import figure, output_file, show\n",
    "\n",
    "# output to static HTML file\n",
    "output_file(\"line.html\")\n",
    "\n",
    "p = figure(plot_width=400, plot_height=400)\n",
    "\n",
    "# add a circle renderer with a size, color, and alpha\n",
    "p.circle([1, 2, 3, 4, 5], [6, 7, 2, 4, 5], size=20, color=\"navy\", alpha=0.5)\n",
    "\n",
    "# show the results\n",
    "show(p)"
   ]
  },
  {
   "cell_type": "code",
   "execution_count": null,
   "metadata": {
    "collapsed": false
   },
   "outputs": [],
   "source": [
    "from bokeh.plotting import figure, output_file, show\n",
    "\n",
    "# output to static HTML file\n",
    "output_file(\"square.html\")\n",
    "\n",
    "p = figure(plot_width=600, plot_height=400)\n",
    "\n",
    "# add a square renderer with a size, color, and alpha\n",
    "p.square([1, 2, 3, 4, 5], [6, 7, 2, 4, 5], size=20, color=\"olive\", alpha=0.5)\n",
    "\n",
    "# show the results\n",
    "show(p)"
   ]
  },
  {
   "cell_type": "markdown",
   "metadata": {},
   "source": [
    "Good basic plotting stuff here: http://bokeh.pydata.org/en/latest/docs/user_guide/plotting.html"
   ]
  },
  {
   "cell_type": "markdown",
   "metadata": {},
   "source": [
    "I'm going to just dive in and try to make a plot that I like."
   ]
  },
  {
   "cell_type": "code",
   "execution_count": null,
   "metadata": {
    "collapsed": false
   },
   "outputs": [],
   "source": [
    "from igor.binarywave import Waves\n",
    "import os\n",
    "from bokeh.models.mappers import LinearColorMapper\n",
    "from bokeh.plotting import figure, output_file, show"
   ]
  },
  {
   "cell_type": "code",
   "execution_count": null,
   "metadata": {
    "collapsed": false
   },
   "outputs": [],
   "source": [
    "filename = 'test_data/dat17g1x.ibw'\n",
    "# filename = 'test_data/dat33g2d1x.ibw'\n",
    "\n",
    "# handle naming stuff\n",
    "dat, ext = os.path.splitext(os.path.basename(filename))\n",
    "output_file(dat+'.html')\n",
    "\n",
    "# define a colormap\n",
    "greys = ['#{0:02x}{0:02x}{0:02x}'.format(i) for i in range(0,256)]\n",
    "\n",
    "# create figure\n",
    "p = figure(plot_width=600, plot_height=400, title=dat, title_text_font_size='10pt')\n",
    "\n",
    "# import wave data\n",
    "try:\n",
    "    w = Waves(filename)\n",
    "except:\n",
    "    p.text(0.0, 0.0, text=['ERROR!'], text_color=\"firebrick\", text_align=\"center\")\n",
    "    \n",
    "# do plotting\n",
    "if w.d == 1:\n",
    "    p.line(w.x, w.y, line_width=2)\n",
    "elif w.d == 2: \n",
    "    x = w.extent[0]\n",
    "    y = w.extent[2]\n",
    "    dw = w.extent[1]-w.extent[0]\n",
    "    dh = w.extent[3]-w.extent[2]\n",
    "    p.image(image=[w.y], x=[x], y=[y], dw=[dw], dh=[dh], color_mapper=LinearColorMapper(greys))\n",
    "    from bokeh.models import Range1d\n",
    "    p.set(x_range=Range1d(w.extent[0], w.extent[1]), y_range=Range1d(w.extent[2], w.extent[3]))\n",
    "else:\n",
    "    # add text to plot indicating that there was an error\n",
    "    p.text(0.0, 0.0, text=['ERROR!'], text_color=\"firebrick\", text_align=\"center\")\n",
    "show(p)"
   ]
  },
  {
   "cell_type": "code",
   "execution_count": null,
   "metadata": {
    "collapsed": false
   },
   "outputs": [],
   "source": [
    "bokeh.__version__"
   ]
  },
  {
   "cell_type": "code",
   "execution_count": null,
   "metadata": {
    "collapsed": false
   },
   "outputs": [],
   "source": [
    "from bokeh.resources import CDN\n",
    "from bokeh.embed import autoload_static\n",
    "\n",
    "filename = 'test_data/dat17g1x.ibw'\n",
    "w = Waves(filename)\n",
    "\n",
    "p = figure(plot_width=600, plot_height=400, title=dat, title_text_font_size='10pt')\n",
    "p.line(w.x, w.y, line_width=2)\n",
    "\n",
    "filename = \"test_data/static_plot.js\"q\n",
    "js, tag = autoload_static(p, CDN, filename)\n",
    "\n",
    "with open(\"test_data/static_plot.js\", \"w\") as text_file:\n",
    "    text_file.write(js)\n",
    "with open(\"test_data/static_tag.html\", \"w\") as text_file:\n",
    "    text_file.write(tag)"
   ]
  },
  {
   "cell_type": "code",
   "execution_count": null,
   "metadata": {
    "collapsed": true
   },
   "outputs": [],
   "source": []
  },
  {
   "cell_type": "markdown",
   "metadata": {},
   "source": []
  }
 ],
 "metadata": {
  "kernelspec": {
   "display_name": "Python 2",
   "language": "python",
   "name": "python2"
  },
  "language_info": {
   "codemirror_mode": {
    "name": "ipython",
    "version": 2
   },
   "file_extension": ".py",
   "mimetype": "text/x-python",
   "name": "python",
   "nbconvert_exporter": "python",
   "pygments_lexer": "ipython2",
   "version": "2.7.11"
  }
 },
 "nbformat": 4,
 "nbformat_minor": 0
}
